{
 "cells": [
  {
   "cell_type": "markdown",
   "metadata": {},
   "source": [
    "## Neural Network with Multiple Outputs"
   ]
  },
  {
   "cell_type": "code",
   "execution_count": null,
   "metadata": {},
   "outputs": [],
   "source": [
    "import torch\n",
    "from torch import nn, optim\n",
    "import torchvision.datasets as dsets\n",
    "from torchvision import transforms\n",
    "import matplotlib.pyplot as plt\n",
    "from torch.utils.data import DataLoader\n",
    "import numpy as np"
   ]
  },
  {
   "cell_type": "code",
   "execution_count": null,
   "metadata": {},
   "outputs": [],
   "source": [
    "def plot_acc_loss(training_results):\n",
    "    plt.subplot(2, 1, 1)\n",
    "    plt.plot(training_results['training loss'], 'r')\n",
    "    plt.ylabel('Loss')\n",
    "    plt.xlabel('Iteration')\n",
    "    plt.title('Training Loss')\n",
    "    plt.subplot(2, 1, 2)\n",
    "    plt.plot(training_results['validation accuracy'])\n",
    "    plt.ylabel('Accuracy')\n",
    "    plt.xlabel('Epoch')"
   ]
  },
  {
   "cell_type": "code",
   "execution_count": null,
   "metadata": {},
   "outputs": [],
   "source": [
    "def print_model_parameters(model):\n",
    "    count = 0\n",
    "    for ele in model.state_dict():\n",
    "        count += 1\n",
    "        if count % 2 == 0:\n",
    "            print(\"The following are the parameters for the layer \", count // 2 + 1)\n",
    "        if ele.find('bias') != -1:\n",
    "            print(\"The size of bias: \", model.state_dict()[ele].size())\n",
    "        else:\n",
    "            print(\"The size of weights: \", model.state_dict()[ele].size())"
   ]
  },
  {
   "cell_type": "code",
   "execution_count": null,
   "metadata": {},
   "outputs": [],
   "source": [
    "def show_data(data_sample):\n",
    "    plt.imshow(data_sample.numpy().reshape(28, 28), cmap='gray')\n",
    "    plt.show()"
   ]
  },
  {
   "cell_type": "code",
   "execution_count": null,
   "metadata": {},
   "outputs": [],
   "source": [
    "class Net(nn.Module):\n",
    "    def __init__(self, dim_in, dim_H, dim_out):\n",
    "        super(Net, self).__init__()\n",
    "        self.Seq1 = nn.Sequential(nn.Linear(dim_in, dim_H), nn.Sigmoid())\n",
    "        self.Linear1 = nn.Linear(dim_H, dim_out)\n",
    "        \n",
    "    def forward(self, x):\n",
    "        x = self.Seq1(x)\n",
    "        x = self.Linear1(x)\n",
    "        return x"
   ]
  },
  {
   "cell_type": "code",
   "execution_count": null,
   "metadata": {},
   "outputs": [],
   "source": [
    "def train_model(model, criterion, trainloader, val_loader, optimizer, epochs=100):\n",
    "    results_dict = {'training loss': [], 'validation accuracy': []}\n",
    "    for epoch in range(epochs):\n",
    "        for x, y in trainloader:\n",
    "            y_hat = model(x.view(-1, 28 * 28))\n",
    "            loss = criterion(y_hat, y)\n",
    "            loss.backward()\n",
    "            optimizer.step()\n",
    "            optimizer.zero_grad()\n",
    "            results_dict['training loss'].append(loss.item())\n",
    "        \n",
    "        correct = 0\n",
    "        for x, y in val_loader:\n",
    "            y_pred = model(x.view(-1, 28 * 28))\n",
    "            _, label = torch.max(y_pred, 1)\n",
    "            correct += (label == y).sum().item()\n",
    "        accuracy = correct / len(val_loader.dataset)\n",
    "        results_dict['validation accuracy'].append(accuracy)\n",
    "    return results_dict"
   ]
  },
  {
   "cell_type": "code",
   "execution_count": null,
   "metadata": {},
   "outputs": [],
   "source": [
    "train_data = dsets.MNIST(root='../data', train=True, download=True, transform=transforms.ToTensor())\n",
    "val_data = dsets.MNIST(root='../data', train=False, download=True, transform=transforms.ToTensor())"
   ]
  },
  {
   "cell_type": "code",
   "execution_count": null,
   "metadata": {},
   "outputs": [],
   "source": [
    "criterion = nn.CrossEntropyLoss()\n",
    "trainloader = DataLoader(dataset=train_data, batch_size=100, shuffle=True)\n",
    "val_loader = DataLoader(dataset=val_data, batch_size=5000, shuffle=False)"
   ]
  },
  {
   "cell_type": "code",
   "execution_count": null,
   "metadata": {},
   "outputs": [],
   "source": [
    "model = Net(28 * 28, 100, 10)\n",
    "print_model_parameters(model)"
   ]
  },
  {
   "cell_type": "code",
   "execution_count": null,
   "metadata": {},
   "outputs": [],
   "source": [
    "optimizer = optim.SGD(model.parameters(), lr=0.01)"
   ]
  },
  {
   "cell_type": "code",
   "execution_count": null,
   "metadata": {},
   "outputs": [],
   "source": [
    "training_results = train_model(model, criterion, trainloader, val_loader, optimizer, 30)"
   ]
  },
  {
   "cell_type": "code",
   "execution_count": null,
   "metadata": {},
   "outputs": [],
   "source": [
    "plot_acc_loss(training_results) # Training Loss looks weird because its lower batch size bc this was running on local CPU"
   ]
  },
  {
   "cell_type": "code",
   "execution_count": null,
   "metadata": {},
   "outputs": [],
   "source": [
    "count = 0\n",
    "for x, y in val_data:\n",
    "    y_hat = model(x.view(-1, 28 * 28))\n",
    "    _, label = torch.max(y_hat, 1)\n",
    "    if label != y:\n",
    "        print('Guessed:', label.numpy().item())\n",
    "        show_data(x)\n",
    "        count += 1\n",
    "    if count >= 5:\n",
    "        break"
   ]
  }
 ],
 "metadata": {
  "kernelspec": {
   "display_name": "Python 3",
   "language": "python",
   "name": "python3"
  },
  "language_info": {
   "codemirror_mode": {
    "name": "ipython",
    "version": 3
   },
   "file_extension": ".py",
   "mimetype": "text/x-python",
   "name": "python",
   "nbconvert_exporter": "python",
   "pygments_lexer": "ipython3",
   "version": "3.7.9"
  }
 },
 "nbformat": 4,
 "nbformat_minor": 4
}
