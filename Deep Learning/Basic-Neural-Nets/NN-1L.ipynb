{
 "cells": [
  {
   "cell_type": "markdown",
   "metadata": {},
   "source": [
    "## Neural Network with one Hidden Layer"
   ]
  },
  {
   "cell_type": "code",
   "execution_count": 101,
   "metadata": {},
   "outputs": [],
   "source": [
    "import torch\n",
    "from torch import nn, optim\n",
    "import matplotlib.pyplot as plt\n",
    "import numpy as np\n",
    "%matplotlib inline"
   ]
  },
  {
   "cell_type": "code",
   "execution_count": 102,
   "metadata": {},
   "outputs": [],
   "source": [
    "def Plot_data(X, Y, model, epoch, leg=True):\n",
    "    plt.plot(X.numpy(), model(X).detach().numpy(), label='epoch ' + str(epoch))\n",
    "    plt.plot(X.numpy(), Y.numpy(), 'r')\n",
    "    if leg:\n",
    "        plt.legend()\n",
    "    else:\n",
    "        pass"
   ]
  },
  {
   "cell_type": "code",
   "execution_count": 141,
   "metadata": {},
   "outputs": [],
   "source": [
    "class Net(nn.Module):\n",
    "    def __init__(self, L1_in, L1_out, L2_out):\n",
    "        super(Net, self).__init__()\n",
    "        self.Seq1 = nn.Sequential(nn.Linear(L1_in, L1_out), nn.Sigmoid())\n",
    "        self.Seq2 = nn.Sequential(nn.Linear(L1_out, L2_out), nn.Sigmoid())\n",
    "        \n",
    "    def forward(self, x):\n",
    "        x = self.Seq1(x)\n",
    "        x = self.Seq2(x)\n",
    "        return x"
   ]
  },
  {
   "cell_type": "code",
   "execution_count": 150,
   "metadata": {},
   "outputs": [],
   "source": [
    "def train_model(Y, X, model, optimizer, criterion, epochs=1000):\n",
    "    cost = []\n",
    "    epoch_loss = 0\n",
    "    for epoch in range(epochs):\n",
    "        epoch_loss = 0\n",
    "        for y, x in zip(Y, X):\n",
    "            y_hat = model(x)\n",
    "            loss = criterion(y_hat, y)\n",
    "            loss.backward()\n",
    "            optimizer.step()\n",
    "            optimizer.zero_grad()\n",
    "            epoch_loss += loss.item()\n",
    "        cost.append(epoch_loss)\n",
    "    return cost"
   ]
  },
  {
   "cell_type": "code",
   "execution_count": 151,
   "metadata": {},
   "outputs": [],
   "source": [
    "X = torch.arange(-20, 20, 1).view(-1, 1).type(torch.FloatTensor)\n",
    "Y = torch.zeros(X.shape[0])\n",
    "Y[(X[:, 0] > -4) & (X[:, 0] < 4)] = 1.0"
   ]
  },
  {
   "cell_type": "code",
   "execution_count": 152,
   "metadata": {},
   "outputs": [],
   "source": [
    "def criterion(outputs, labels):\n",
    "    return -1 * torch.mean(labels * torch.log(outputs) + (1 - labels) * torch.log(1 - outputs))"
   ]
  },
  {
   "cell_type": "code",
   "execution_count": 153,
   "metadata": {},
   "outputs": [
    {
     "data": {
      "text/plain": [
       "Text(0.5, 1.0, 'Cross Entropy Loss')"
      ]
     },
     "execution_count": 153,
     "metadata": {},
     "output_type": "execute_result"
    },
    {
     "data": {
      "image/png": "[encoded data removed]",
      "text/plain": [
       "<Figure size 432x288 with 1 Axes>"
      ]
     },
     "metadata": {
      "needs_background": "light"
     },
     "output_type": "display_data"
    }
   ],
   "source": [
    "model = Net(1, 2, 1)\n",
    "optimizer = optim.SGD(model.parameters(), lr=0.1)\n",
    "cost_cross = train_model(Y, X, model, optimizer, criterion)\n",
    "\n",
    "plt.plot(cost_cross)\n",
    "plt.xlabel('Epoch')\n",
    "plt.title('Cross Entropy Loss')"
   ]
  },
  {
   "cell_type": "code",
   "execution_count": 154,
   "metadata": {},
   "outputs": [
    {
     "data": {
      "text/plain": [
       "tensor([0.9980], grad_fn=<SigmoidBackward>)"
      ]
     },
     "execution_count": 154,
     "metadata": {},
     "output_type": "execute_result"
    }
   ],
   "source": [
    "x = torch.tensor([0.0])\n",
    "y_hat = model(x)\n",
    "y_hat"
   ]
  },
  {
   "cell_type": "code",
   "execution_count": 158,
   "metadata": {},
   "outputs": [
    {
     "data": {
      "text/plain": [
       "OrderedDict([('Seq1.0.weight',\n",
       "              tensor([[-2.6949],\n",
       "                      [-2.6298]])),\n",
       "             ('Seq1.0.bias', tensor([ 9.3867, -9.3297])),\n",
       "             ('Seq2.0.weight', tensor([[ 12.6922, -13.2355]])),\n",
       "             ('Seq2.0.bias', tensor([-6.4751]))])"
      ]
     },
     "execution_count": 158,
     "metadata": {},
     "output_type": "execute_result"
    }
   ],
   "source": [
    "# Practice: Train the model with MSE Loss Function\n",
    "criterion = nn.MSELoss()\n",
    "practice_model = Net(1, 2, 1)\n",
    "prac_optim = optim.SGD(practice_model.parameters(), lr=0.1)\n",
    "\n",
    "cost = train_model(Y, X, practice_model, prac_optim, criterion)\n",
    "model.state_dict()"
   ]
  },
  {
   "cell_type": "code",
   "execution_count": 159,
   "metadata": {},
   "outputs": [
    {
     "data": {
      "text/plain": [
       "tensor([0.9755], grad_fn=<SigmoidBackward>)"
      ]
     },
     "execution_count": 159,
     "metadata": {},
     "output_type": "execute_result"
    }
   ],
   "source": [
    "y_hat = model(torch.tensor([-3.0]))\n",
    "y_hat"
   ]
  }
 ],
 "metadata": {
  "kernelspec": {
   "display_name": "Python 3",
   "language": "python",
   "name": "python3"
  },
  "language_info": {
   "codemirror_mode": {
    "name": "ipython",
    "version": 3
   },
   "file_extension": ".py",
   "mimetype": "text/x-python",
   "name": "python",
   "nbconvert_exporter": "python",
   "pygments_lexer": "ipython3",
   "version": "3.7.9"
  }
 },
 "nbformat": 4,
 "nbformat_minor": 4
}
