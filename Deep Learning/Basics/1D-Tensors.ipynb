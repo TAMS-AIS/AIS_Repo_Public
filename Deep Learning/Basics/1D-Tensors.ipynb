{
 "cells": [
  {
   "cell_type": "code",
   "execution_count": 2,
   "metadata": {},
   "outputs": [],
   "source": [
    "import torch\n",
    "import numpy as np\n",
    "import pandas as pd\n",
    "import matplotlib.pyplot as plt\n",
    "%matplotlib inline"
   ]
  },
  {
   "cell_type": "code",
   "execution_count": 5,
   "metadata": {},
   "outputs": [],
   "source": [
    "def plotVec(vectors):\n",
    "    ax = plt.axes()\n",
    "    \n",
    "    for vec in vectors:\n",
    "        ax.arrow(0, 0, *vec['vector'], head_width=0.05, color=vec['color'], head_length=0.1)\n",
    "        plt.text(*(vec['vector'] + 0.1), vec['name'])\n",
    "        \n",
    "    plt.ylim(-2, 2)\n",
    "    plt.xlim(-2, 2)"
   ]
  },
  {
   "cell_type": "code",
   "execution_count": 7,
   "metadata": {},
   "outputs": [
    {
     "name": "stdout",
     "output_type": "stream",
     "text": [
      "dtype: torch.int64\n",
      "tensor type: torch.LongTensor\n",
      "python object type: <class 'torch.Tensor'>\n"
     ]
    }
   ],
   "source": [
    "ints_to_tensor = torch.tensor([0, 1, 2, 3, 4])\n",
    "print('dtype:', ints_to_tensor.dtype)\n",
    "print('tensor type:', ints_to_tensor.type())\n",
    "print('python object type:', type(ints_to_tensor))"
   ]
  },
  {
   "cell_type": "code",
   "execution_count": 8,
   "metadata": {},
   "outputs": [
    {
     "name": "stdout",
     "output_type": "stream",
     "text": [
      "dtype: torch.float32\n",
      "tensor type: torch.FloatTensor\n",
      "python object type: <class 'torch.Tensor'>\n"
     ]
    }
   ],
   "source": [
    "floats_to_tensor = torch.tensor([0.0, 1.0, 2.0, 3.0, 4.0])\n",
    "print('dtype:', floats_to_tensor.dtype)\n",
    "print('tensor type:', floats_to_tensor.type())\n",
    "print('python object type:', type(floats_to_tensor))"
   ]
  },
  {
   "cell_type": "code",
   "execution_count": 12,
   "metadata": {},
   "outputs": [
    {
     "name": "stdout",
     "output_type": "stream",
     "text": [
      "dtype: torch.int64\n",
      "tensor type: torch.LongTensor\n",
      "python object type: <class 'torch.Tensor'>\n"
     ]
    }
   ],
   "source": [
    "list_floats = [0.0, 1.0, 2.0, 3.0, 4.0]\n",
    "floats_int_tensor = torch.tensor(list_floats, dtype=torch.int64) # Turned list of floats to tensor of ints\n",
    "print('dtype:', floats_int_tensor.dtype)\n",
    "print('tensor type:', floats_int_tensor.type())\n",
    "print('python object type:', type(floats_int_tensor))"
   ]
  },
  {
   "cell_type": "code",
   "execution_count": 15,
   "metadata": {},
   "outputs": [
    {
     "name": "stdout",
     "output_type": "stream",
     "text": [
      "dtype: torch.float32\n",
      "tensor type: torch.FloatTensor\n",
      "python object type: <class 'torch.Tensor'>\n"
     ]
    }
   ],
   "source": [
    "list_ints = np.linspace(1, 10, 5)\n",
    "floats_tensor = torch.tensor(list_ints, dtype=torch.float32)\n",
    "print('dtype:', floats_tensor.dtype)\n",
    "print('tensor type:', floats_tensor.type())\n",
    "print('python object type:', type(floats_tensor))"
   ]
  },
  {
   "cell_type": "code",
   "execution_count": 16,
   "metadata": {},
   "outputs": [
    {
     "name": "stdout",
     "output_type": "stream",
     "text": [
      "dtype: torch.float32\n",
      "tensor type: torch.FloatTensor\n",
      "python object type: <class 'torch.Tensor'>\n"
     ]
    }
   ],
   "source": [
    "floats_tensor = torch.FloatTensor(list_ints)\n",
    "print('dtype:', floats_tensor.dtype)\n",
    "print('tensor type:', floats_tensor.type())\n",
    "print('python object type:', type(floats_tensor))"
   ]
  },
  {
   "cell_type": "code",
   "execution_count": 18,
   "metadata": {},
   "outputs": [
    {
     "name": "stdout",
     "output_type": "stream",
     "text": [
      "dtype: torch.float32\n",
      "tensor type: torch.FloatTensor\n",
      "python object type: <class 'torch.Tensor'>\n"
     ]
    }
   ],
   "source": [
    "old_tensor_int = torch.tensor(list_ints)\n",
    "new_tensor_float = old_tensor_int.type(torch.FloatTensor)\n",
    "print('dtype:', new_tensor_float.dtype)\n",
    "print('tensor type:', new_tensor_float.type())\n",
    "print('python object type:', type(new_tensor_float))"
   ]
  },
  {
   "cell_type": "code",
   "execution_count": 20,
   "metadata": {},
   "outputs": [
    {
     "name": "stdout",
     "output_type": "stream",
     "text": [
      "Size of new_tensor_float: torch.Size([5])\n",
      "Dimensionality of new_tensor_float: 1\n"
     ]
    }
   ],
   "source": [
    "print('Size of new_tensor_float:', new_tensor_float.size())\n",
    "print('Dimensionality of new_tensor_float:', new_tensor_float.ndimension())"
   ]
  },
  {
   "cell_type": "code",
   "execution_count": 21,
   "metadata": {},
   "outputs": [
    {
     "name": "stdout",
     "output_type": "stream",
     "text": [
      "Original: tensor([ 1.0000,  3.2500,  5.5000,  7.7500, 10.0000])\n",
      "2D: tensor([[ 1.0000],\n",
      "        [ 3.2500],\n",
      "        [ 5.5000],\n",
      "        [ 7.7500],\n",
      "        [10.0000]])\n"
     ]
    }
   ],
   "source": [
    "float_tensor_2D = new_tensor_float.view(-1, 1) # Or (5, 1) but -1 is used for dynamic tensors\n",
    "print('Original:', new_tensor_float)\n",
    "print('2D:', float_tensor_2D)"
   ]
  },
  {
   "cell_type": "code",
   "execution_count": 22,
   "metadata": {},
   "outputs": [
    {
     "name": "stdout",
     "output_type": "stream",
     "text": [
      "The dtype of new tensor:  torch.float64\n",
      "The type of new tensor:  torch.DoubleTensor\n"
     ]
    }
   ],
   "source": [
    "arr = np.array([0.0, 1.0, 2.0, 3.0, 4.0])\n",
    "arr_tensor = torch.from_numpy(arr)\n",
    "print(\"The dtype of new tensor: \", arr_tensor.dtype)\n",
    "print(\"The type of new tensor: \", arr_tensor.type())"
   ]
  },
  {
   "cell_type": "code",
   "execution_count": 23,
   "metadata": {},
   "outputs": [
    {
     "name": "stdout",
     "output_type": "stream",
     "text": [
      "[0. 1. 2. 3. 4.]\n"
     ]
    }
   ],
   "source": [
    "back_to_numpy = arr_tensor.numpy()\n",
    "print(back_to_numpy)"
   ]
  },
  {
   "cell_type": "code",
   "execution_count": 24,
   "metadata": {},
   "outputs": [
    {
     "name": "stdout",
     "output_type": "stream",
     "text": [
      "tensor([0., 0., 0., 0., 0.], dtype=torch.float64)\n"
     ]
    }
   ],
   "source": [
    "# Since they use pointers, changes are made between each other really easily\n",
    "back_to_numpy[:] = 0 # All elements to 0\n",
    "print(arr_tensor)"
   ]
  },
  {
   "cell_type": "code",
   "execution_count": 25,
   "metadata": {},
   "outputs": [
    {
     "name": "stdout",
     "output_type": "stream",
     "text": [
      "tensor([ 0.1000,  2.0000,  0.3000, 10.1000], dtype=torch.float64)\n"
     ]
    }
   ],
   "source": [
    "series = pd.Series([0.1, 2, 0.3, 10.1])\n",
    "tensor = torch.from_numpy(series.values)\n",
    "print(tensor)"
   ]
  },
  {
   "cell_type": "code",
   "execution_count": 30,
   "metadata": {},
   "outputs": [
    {
     "name": "stdout",
     "output_type": "stream",
     "text": [
      "Third item: 2\n",
      "In tensor form: tensor(2)\n"
     ]
    }
   ],
   "source": [
    "this_tensor = torch.tensor([0,1, 2,3])\n",
    "print('Third item:', this_tensor[2].item())\n",
    "print('In tensor form:', this_tensor[2])"
   ]
  },
  {
   "cell_type": "code",
   "execution_count": 32,
   "metadata": {},
   "outputs": [
    {
     "name": "stdout",
     "output_type": "stream",
     "text": [
      "[0, 1, 2, 3]\n"
     ]
    }
   ],
   "source": [
    "float_list = this_tensor.tolist()\n",
    "print(float_list)"
   ]
  },
  {
   "cell_type": "code",
   "execution_count": 33,
   "metadata": {},
   "outputs": [
    {
     "name": "stdout",
     "output_type": "stream",
     "text": [
      "tensor([[1, 2, 3, 4, 5]])\n"
     ]
    }
   ],
   "source": [
    "your_tensor = torch.tensor([1, 2, 3, 4, 5])\n",
    "new_tensor = your_tensor.view(1, 5)\n",
    "print(new_tensor)"
   ]
  },
  {
   "cell_type": "code",
   "execution_count": 35,
   "metadata": {},
   "outputs": [
    {
     "name": "stdout",
     "output_type": "stream",
     "text": [
      "tensor([20,  1, 10,  3,  4])\n"
     ]
    }
   ],
   "source": [
    "tensor_sample = torch.tensor([20, 1, 2, 3, 4])\n",
    "tensor_sample[2] = 10\n",
    "print(tensor_sample)"
   ]
  },
  {
   "cell_type": "code",
   "execution_count": 36,
   "metadata": {},
   "outputs": [
    {
     "name": "stdout",
     "output_type": "stream",
     "text": [
      "tensor([ 1, 10,  3])\n"
     ]
    }
   ],
   "source": [
    "smaller_tensor = tensor_sample[1:4]\n",
    "print(smaller_tensor)"
   ]
  },
  {
   "cell_type": "code",
   "execution_count": 38,
   "metadata": {},
   "outputs": [
    {
     "name": "stdout",
     "output_type": "stream",
     "text": [
      "tensor([20,  4, 10,  3,  4])\n"
     ]
    }
   ],
   "source": [
    "tensor_sample[1] = tensor_sample[4]\n",
    "print(tensor_sample)"
   ]
  },
  {
   "cell_type": "code",
   "execution_count": 41,
   "metadata": {},
   "outputs": [
    {
     "name": "stdout",
     "output_type": "stream",
     "text": [
      "tensor([20,  4, 10])\n"
     ]
    }
   ],
   "source": [
    "index = range(0, 3, 1)\n",
    "diff_subset = tensor_sample[index]\n",
    "print(diff_subset)"
   ]
  },
  {
   "cell_type": "code",
   "execution_count": 42,
   "metadata": {},
   "outputs": [
    {
     "name": "stdout",
     "output_type": "stream",
     "text": [
      "tensor([1000, 1000, 1000,    3,    4])\n"
     ]
    }
   ],
   "source": [
    "tensor_sample[index] = 1000\n",
    "print(tensor_sample)"
   ]
  },
  {
   "cell_type": "code",
   "execution_count": 44,
   "metadata": {},
   "outputs": [
    {
     "name": "stdout",
     "output_type": "stream",
     "text": [
      "tensor([2, 7, 3, 0, 0, 2, 3, 0, 2])\n"
     ]
    }
   ],
   "source": [
    "practice_tensor = torch.tensor([2, 7, 3, 4, 6, 2, 3, 1, 2])\n",
    "index = [3, 4, 7]\n",
    "practice_tensor[index] = 0\n",
    "print(practice_tensor)"
   ]
  },
  {
   "cell_type": "code",
   "execution_count": 49,
   "metadata": {},
   "outputs": [
    {
     "name": "stdout",
     "output_type": "stream",
     "text": [
      "Mean: 0.0\n",
      "Std: 1.1547005\n"
     ]
    }
   ],
   "source": [
    "math_tensor = torch.tensor([1.0, -1.0, 1, -1])\n",
    "mean = math_tensor.mean()\n",
    "std = math_tensor.std()\n",
    "print('Mean:', mean.numpy())\n",
    "print('Std:', std.numpy())"
   ]
  },
  {
   "cell_type": "code",
   "execution_count": 51,
   "metadata": {},
   "outputs": [
    {
     "name": "stdout",
     "output_type": "stream",
     "text": [
      "Max: 5\n",
      "Min: 1\n"
     ]
    }
   ],
   "source": [
    "max_min_tensor = torch.tensor([1, 1, 3, 5, 5])\n",
    "print('Max:', max_min_tensor.max().numpy())\n",
    "print('Min:', max_min_tensor.min().numpy())"
   ]
  },
  {
   "cell_type": "code",
   "execution_count": 53,
   "metadata": {},
   "outputs": [
    {
     "name": "stdout",
     "output_type": "stream",
     "text": [
      "tensor([ 0.0000e+00,  1.0000e+00, -8.7423e-08])\n"
     ]
    }
   ],
   "source": [
    "pi_tensor = torch.tensor([0, np.pi/2, np.pi])\n",
    "sin_tensor = pi_tensor.sin()\n",
    "print(sin_tensor)"
   ]
  },
  {
   "cell_type": "code",
   "execution_count": 58,
   "metadata": {},
   "outputs": [
    {
     "data": {
      "text/plain": [
       "[<matplotlib.lines.Line2D at 0x1ecbdd6bfc8>]"
      ]
     },
     "execution_count": 58,
     "metadata": {},
     "output_type": "execute_result"
    },
    {
     "data": {
      "image/png": "[encoded data removed]",
      "text/plain": [
       "<Figure size 432x288 with 1 Axes>"
      ]
     },
     "metadata": {
      "needs_background": "light"
     },
     "output_type": "display_data"
    }
   ],
   "source": [
    "pi_tensor = torch.linspace(0, 2*np.pi, 100)\n",
    "sin_result = pi_tensor.sin()\n",
    "plt.plot(pi_tensor, sin_result)"
   ]
  },
  {
   "cell_type": "code",
   "execution_count": 68,
   "metadata": {},
   "outputs": [
    {
     "name": "stdout",
     "output_type": "stream",
     "text": [
      "Max: 1.5707964\n",
      "Min: 0.0\n"
     ]
    },
    {
     "data": {
      "text/plain": [
       "[<matplotlib.lines.Line2D at 0x1ecbde69148>]"
      ]
     },
     "execution_count": 68,
     "metadata": {},
     "output_type": "execute_result"
    },
    {
     "data": {
      "image/png": "[encoded data removed]",
      "text/plain": [
       "<Figure size 432x288 with 1 Axes>"
      ]
     },
     "metadata": {
      "needs_background": "light"
     },
     "output_type": "display_data"
    }
   ],
   "source": [
    "practice_tensor = torch.linspace(0, np.pi/2, 25)\n",
    "print('Max:', practice_tensor.max().numpy())\n",
    "print('Min:', practice_tensor.min().numpy())\n",
    "# print(practice_tensor)\n",
    "# print(practice_tensor.sin())\n",
    "plt.plot(practice_tensor, practice_tensor.sin())"
   ]
  },
  {
   "cell_type": "code",
   "execution_count": 69,
   "metadata": {},
   "outputs": [
    {
     "name": "stdout",
     "output_type": "stream",
     "text": [
      "tensor([1, 1])\n"
     ]
    }
   ],
   "source": [
    "u = torch.tensor([1, 0])\n",
    "v = torch.tensor([0, 1])\n",
    "w = u + v\n",
    "print(w)"
   ]
  },
  {
   "cell_type": "code",
   "execution_count": 70,
   "metadata": {},
   "outputs": [
    {
     "data": {
      "image/png": "[encoded data removed]",
      "text/plain": [
       "<Figure size 432x288 with 1 Axes>"
      ]
     },
     "metadata": {
      "needs_background": "light"
     },
     "output_type": "display_data"
    }
   ],
   "source": [
    "plotVec([\n",
    "    {'vector': u.numpy(), 'name': 'u', 'color': 'r'},\n",
    "    {'vector': v.numpy(), 'name': 'v', 'color': 'g'},\n",
    "    {'vector': w.numpy(), 'name': 'w', 'color': 'b'}\n",
    "])"
   ]
  },
  {
   "cell_type": "code",
   "execution_count": 71,
   "metadata": {},
   "outputs": [
    {
     "data": {
      "image/png": "[encoded data removed]",
      "text/plain": [
       "<Figure size 432x288 with 1 Axes>"
      ]
     },
     "metadata": {
      "needs_background": "light"
     },
     "output_type": "display_data"
    }
   ],
   "source": [
    "z = u - v\n",
    "plotVec([\n",
    "    {'vector': u.numpy(), 'name': 'u', 'color': 'r'},\n",
    "    {'vector': v.numpy(), 'name': 'v', 'color': 'g'},\n",
    "    {'vector': z.numpy(), 'name': 'z', 'color': 'b'}\n",
    "])"
   ]
  },
  {
   "cell_type": "code",
   "execution_count": 79,
   "metadata": {},
   "outputs": [
    {
     "name": "stdout",
     "output_type": "stream",
     "text": [
      "d: tensor(10)\n"
     ]
    },
    {
     "data": {
      "image/png": "[encoded data removed]",
      "text/plain": [
       "<Figure size 432x288 with 1 Axes>"
      ]
     },
     "metadata": {
      "needs_background": "light"
     },
     "output_type": "display_data"
    }
   ],
   "source": [
    "a = u + 1\n",
    "b = u * 2 # Multiplication with scalar\n",
    "c = u * v\n",
    "d = torch.dot(torch.tensor([1,3]), torch.tensor([4,2]))\n",
    "print('d:', d)\n",
    "plotVec([\n",
    "    {'vector': a, 'name': 'add', 'color':'r'},\n",
    "    {'vector': b, 'name': 'scale', 'color':'g'},\n",
    "    {'vector': c, 'name': 'prod', 'color':'b'}\n",
    "])"
   ]
  },
  {
   "cell_type": "code",
   "execution_count": 85,
   "metadata": {},
   "outputs": [
    {
     "name": "stdout",
     "output_type": "stream",
     "text": [
      "Dot product: 0\n"
     ]
    },
    {
     "data": {
      "image/png": "[encoded data removed]",
      "text/plain": [
       "<Figure size 432x288 with 1 Axes>"
      ]
     },
     "metadata": {
      "needs_background": "light"
     },
     "output_type": "display_data"
    }
   ],
   "source": [
    "# Practice\n",
    "u = torch.tensor([-1, 1])\n",
    "v = torch.tensor([1, 1])\n",
    "print('Dot product:', torch.dot(u, v).numpy())\n",
    "plotVec([\n",
    "    {'vector': u, 'name': 'u', 'color': 'r'},\n",
    "    {'vector': v, 'name': 'v', 'color': 'g'}\n",
    "])"
   ]
  }
 ],
 "metadata": {
  "kernelspec": {
   "display_name": "Python 3",
   "language": "python",
   "name": "python3"
  },
  "language_info": {
   "codemirror_mode": {
    "name": "ipython",
    "version": 3
   },
   "file_extension": ".py",
   "mimetype": "text/x-python",
   "name": "python",
   "nbconvert_exporter": "python",
   "pygments_lexer": "ipython3",
   "version": "3.7.9"
  }
 },
 "nbformat": 4,
 "nbformat_minor": 4
}
