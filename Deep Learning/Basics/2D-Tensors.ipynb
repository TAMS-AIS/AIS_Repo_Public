{
 "cells": [
  {
   "cell_type": "code",
   "execution_count": 1,
   "metadata": {},
   "outputs": [],
   "source": [
    "import torch\n",
    "import pandas as pd\n",
    "import numpy as np\n",
    "import matplotlib.pyplot as plt\n",
    "%matplotlib inline"
   ]
  },
  {
   "cell_type": "code",
   "execution_count": 6,
   "metadata": {},
   "outputs": [
    {
     "name": "stdout",
     "output_type": "stream",
     "text": [
      "tensor([[11, 12, 13],\n",
      "        [21, 22, 23],\n",
      "        [31, 32, 33]])\n",
      "Dimensions: 2\n",
      "Shape: torch.Size([3, 3])\n"
     ]
    }
   ],
   "source": [
    "list_2D = [[11, 12, 13], [21, 22, 23], [31, 32, 33]]\n",
    "tensor_2D = torch.tensor(list_2D)\n",
    "print(tensor_2D)\n",
    "print('Dimensions:', tensor_2D.ndimension())\n",
    "print('Shape:', tensor_2D.shape)"
   ]
  },
  {
   "cell_type": "code",
   "execution_count": 8,
   "metadata": {},
   "outputs": [
    {
     "name": "stdout",
     "output_type": "stream",
     "text": [
      "[[11 12 13]\n",
      " [21 22 23]\n",
      " [31 32 33]]\n",
      "tensor([[11, 12, 13],\n",
      "        [21, 22, 23],\n",
      "        [31, 32, 33]])\n"
     ]
    }
   ],
   "source": [
    "arr_2D = tensor_2D.numpy()\n",
    "new_tensor = torch.from_numpy(arr_2D)\n",
    "print(arr_2D)\n",
    "print(new_tensor)"
   ]
  },
  {
   "cell_type": "code",
   "execution_count": 11,
   "metadata": {},
   "outputs": [
    {
     "name": "stdout",
     "output_type": "stream",
     "text": [
      "tensor([[ 11,  12],\n",
      "        [ 21,  22],\n",
      "        [ 31, 312]])\n"
     ]
    }
   ],
   "source": [
    "df = pd.DataFrame({'a':[11,21,31],'b':[12,22,312]})\n",
    "tensor_for_df = torch.tensor(df.values)\n",
    "print(tensor_for_df)"
   ]
  },
  {
   "cell_type": "code",
   "execution_count": 15,
   "metadata": {},
   "outputs": [
    {
     "name": "stdout",
     "output_type": "stream",
     "text": [
      "tensor([[11,  3],\n",
      "        [33,  3],\n",
      "        [22,  2]])\n"
     ]
    }
   ],
   "source": [
    "df = pd.DataFrame({'A':[11, 33, 22],'B':[3, 3, 2]})\n",
    "practice_tensor = torch.tensor(df.values)\n",
    "print(practice_tensor)"
   ]
  },
  {
   "cell_type": "code",
   "execution_count": 22,
   "metadata": {},
   "outputs": [
    {
     "name": "stdout",
     "output_type": "stream",
     "text": [
      "[[11 12 13]\n",
      " [21 22 23]\n",
      " [31 32 33]]\n",
      "What is the value on 1st-row first two columns? [11 12]\n",
      "What is the value on 3rd-column last two rows? [23 33]\n"
     ]
    }
   ],
   "source": [
    "tensor_example = torch.tensor([[11, 12, 13], [21, 22, 23], [31, 32, 33]])\n",
    "print(tensor_example.numpy())\n",
    "print(\"What is the value on 1st-row first two columns?\", tensor_example[0,0:2].numpy())\n",
    "print(\"What is the value on 3rd-column last two rows?\", tensor_example[-2:, 2].numpy())"
   ]
  },
  {
   "cell_type": "code",
   "execution_count": 21,
   "metadata": {},
   "outputs": [
    {
     "name": "stdout",
     "output_type": "stream",
     "text": [
      "tensor([[12, 13],\n",
      "        [22, 23]])\n"
     ]
    }
   ],
   "source": [
    "sliced_tensor = tensor_example[0:2, 1:3]\n",
    "print(sliced_tensor)"
   ]
  },
  {
   "cell_type": "code",
   "execution_count": 23,
   "metadata": {},
   "outputs": [
    {
     "name": "stdout",
     "output_type": "stream",
     "text": [
      "[[11 12 13]\n",
      " [21  0 23]\n",
      " [31  0 33]]\n"
     ]
    }
   ],
   "source": [
    "tensor_ques = torch.tensor([[11, 12, 13], [21, 22, 23], [31, 32, 33]])\n",
    "# Try to change the values on the second column and the last two rows to 0\n",
    "tensor_ques[-2:, 1] = 0\n",
    "print(tensor_ques.numpy())"
   ]
  },
  {
   "cell_type": "code",
   "execution_count": 25,
   "metadata": {},
   "outputs": [
    {
     "name": "stdout",
     "output_type": "stream",
     "text": [
      "tensor([[3, 1],\n",
      "        [1, 3]])\n",
      "tensor([[2, 1],\n",
      "        [1, 2]])\n"
     ]
    }
   ],
   "source": [
    "x = torch.tensor([[1, 0],[0, 1]]) \n",
    "y = torch.tensor([[2, 1],[1, 2]])\n",
    "z = x + y\n",
    "print(z)\n",
    "two_y = y * 2\n",
    "print(y)"
   ]
  },
  {
   "cell_type": "code",
   "execution_count": 36,
   "metadata": {},
   "outputs": [
    {
     "name": "stdout",
     "output_type": "stream",
     "text": [
      "torch.Size([3, 2]) , torch.Size([2, 3])\n",
      "tensor([[16, 46],\n",
      "        [28, 78]])\n"
     ]
    }
   ],
   "source": [
    "# Practice\n",
    "x = torch.tensor([[1,3],[4,5],[2,7]])\n",
    "y = torch.tensor([[2,1,5],[4,2,8]])\n",
    "print(x.shape, ',',y.shape)\n",
    "z = torch.mm(y, x)\n",
    "print(z)"
   ]
  }
 ],
 "metadata": {
  "kernelspec": {
   "display_name": "Python 3",
   "language": "python",
   "name": "python3"
  },
  "language_info": {
   "codemirror_mode": {
    "name": "ipython",
    "version": 3
   },
   "file_extension": ".py",
   "mimetype": "text/x-python",
   "name": "python",
   "nbconvert_exporter": "python",
   "pygments_lexer": "ipython3",
   "version": "3.7.6"
  }
 },
 "nbformat": 4,
 "nbformat_minor": 4
}
