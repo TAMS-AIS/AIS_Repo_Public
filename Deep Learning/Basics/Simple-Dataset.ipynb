{
 "cells": [
  {
   "cell_type": "code",
   "execution_count": 6,
   "metadata": {},
   "outputs": [
    {
     "data": {
      "text/plain": [
       "<torch._C.Generator at 0x17907efe050>"
      ]
     },
     "execution_count": 6,
     "metadata": {},
     "output_type": "execute_result"
    }
   ],
   "source": [
    "import torch\n",
    "from torch.utils.data import Dataset\n",
    "torch.manual_seed(1)"
   ]
  },
  {
   "cell_type": "code",
   "execution_count": 7,
   "metadata": {},
   "outputs": [],
   "source": [
    "class toy_set(Dataset):\n",
    "    def __init__(self, length=100, transform=None):\n",
    "        self.len = length\n",
    "        self.x = 2 * torch.ones(length, 2)\n",
    "        self.y = torch.ones(length, 1)\n",
    "        self.transform = transform\n",
    "        \n",
    "    def __getitem__(self, index):\n",
    "        sample = self.x[index], self.y[index]\n",
    "        if self.transform:\n",
    "            sample = self.transform(sample)\n",
    "        return sample\n",
    "    \n",
    "    def __len__(self):\n",
    "        return self.len"
   ]
  },
  {
   "cell_type": "code",
   "execution_count": 11,
   "metadata": {},
   "outputs": [
    {
     "name": "stdout",
     "output_type": "stream",
     "text": [
      "Object: <__main__.toy_set object at 0x000001790BB4CA48>\n",
      "Value on index 0: (tensor([2., 2.]), tensor([1.]))\n",
      "Length: 100\n"
     ]
    }
   ],
   "source": [
    "our_dataset = toy_set()\n",
    "print('Object:', our_dataset)\n",
    "print('Value on index 0:', our_dataset[0])\n",
    "print('Length:', len(our_dataset))"
   ]
  },
  {
   "cell_type": "code",
   "execution_count": 13,
   "metadata": {},
   "outputs": [
    {
     "name": "stdout",
     "output_type": "stream",
     "text": [
      "Index 0; x: [2. 2.]; y: [1.]\n",
      "Index 1; x: [2. 2.]; y: [1.]\n",
      "Index 2; x: [2. 2.]; y: [1.]\n"
     ]
    }
   ],
   "source": [
    "# Use loop to print out first 3 elements in dataset\n",
    "for i in range(3):\n",
    "    x, y = our_dataset[i]\n",
    "    print('Index {}; x: {}; y: {}'.format(i, x.numpy(), y.numpy()))"
   ]
  },
  {
   "cell_type": "code",
   "execution_count": 18,
   "metadata": {},
   "outputs": [
    {
     "name": "stdout",
     "output_type": "stream",
     "text": [
      "x: [2. 2.], y: [1.]\n",
      "x: [2. 2.], y: [1.]\n",
      "x: [2. 2.], y: [1.]\n"
     ]
    }
   ],
   "source": [
    "i = 0\n",
    "for x, y in our_dataset:\n",
    "    if i < 3:\n",
    "        print('x: {}, y: {}'.format(x.numpy(), y.numpy()))\n",
    "        i+=1"
   ]
  },
  {
   "cell_type": "code",
   "execution_count": 19,
   "metadata": {},
   "outputs": [
    {
     "name": "stdout",
     "output_type": "stream",
     "text": [
      "Length: 50\n"
     ]
    }
   ],
   "source": [
    "# Practice: Create a new object with length 50, and print the length of object out.\n",
    "practice_ds = toy_set(length=50)\n",
    "print('Length:', len(practice_ds))"
   ]
  },
  {
   "cell_type": "code",
   "execution_count": 20,
   "metadata": {},
   "outputs": [],
   "source": [
    "class add_mult(object):\n",
    "    def __init__(self, addx=1, muly=2):\n",
    "        self.addx = addx\n",
    "        self.muly = muly\n",
    "        \n",
    "    def __call__(self, sample):\n",
    "        x = sample[0]\n",
    "        y = sample[1]\n",
    "        x = x + self.addx\n",
    "        y = y * self.muly\n",
    "        sample = x, y\n",
    "        return sample"
   ]
  },
  {
   "cell_type": "code",
   "execution_count": 39,
   "metadata": {},
   "outputs": [],
   "source": [
    "a_m = add_mult()\n",
    "ds = toy_set()"
   ]
  },
  {
   "cell_type": "code",
   "execution_count": 40,
   "metadata": {},
   "outputs": [
    {
     "name": "stdout",
     "output_type": "stream",
     "text": [
      "Index: 0, x: [2. 2.], y:[1.]\n",
      "Index: 1, x: [2. 2.], y:[1.]\n",
      "Index: 2, x: [2. 2.], y:[1.]\n",
      "Index: 3, x: [2. 2.], y:[1.]\n",
      "Index: 4, x: [2. 2.], y:[1.]\n",
      "Index: 5, x: [2. 2.], y:[1.]\n",
      "Index: 6, x: [2. 2.], y:[1.]\n",
      "Index: 7, x: [2. 2.], y:[1.]\n",
      "Index: 8, x: [2. 2.], y:[1.]\n",
      "Index: 9, x: [2. 2.], y:[1.]\n"
     ]
    }
   ],
   "source": [
    "# Use loop to print out first 10 elements in dataset\n",
    "for i in range(10):\n",
    "    x, y = ds[i]\n",
    "    print('Index: {}, x: {}, y:{}'.format(i, x.numpy(), y.numpy()))"
   ]
  },
  {
   "cell_type": "code",
   "execution_count": 41,
   "metadata": {},
   "outputs": [
    {
     "name": "stdout",
     "output_type": "stream",
     "text": [
      "Index: 0, new x: [3. 3.], new y: [2.]\n",
      "Index: 1, new x: [3. 3.], new y: [2.]\n",
      "Index: 2, new x: [3. 3.], new y: [2.]\n",
      "Index: 3, new x: [3. 3.], new y: [2.]\n",
      "Index: 4, new x: [3. 3.], new y: [2.]\n",
      "Index: 5, new x: [3. 3.], new y: [2.]\n",
      "Index: 6, new x: [3. 3.], new y: [2.]\n",
      "Index: 7, new x: [3. 3.], new y: [2.]\n",
      "Index: 8, new x: [3. 3.], new y: [2.]\n",
      "Index: 9, new x: [3. 3.], new y: [2.]\n"
     ]
    }
   ],
   "source": [
    "for i in range(10):\n",
    "    x, y = a_m(ds[i])\n",
    "    print('Index: {}, new x: {}, new y: {}'.format(i, x.numpy(), y.numpy()))"
   ]
  },
  {
   "cell_type": "code",
   "execution_count": 85,
   "metadata": {},
   "outputs": [],
   "source": [
    "# Create a new data_set object with add_mult object as transform\n",
    "cust_ds = toy_set(transform=add_mult)"
   ]
  },
  {
   "cell_type": "code",
   "execution_count": 87,
   "metadata": {},
   "outputs": [],
   "source": [
    "# Use loop to print out first 10 elements in dataset\n",
    "# for i in range(10):\n",
    "#     x_, y_ = cust_ds[i]\n",
    "#     print('Index: {}, x: {}, y: {}'.format(i, x_, y_))"
   ]
  },
  {
   "cell_type": "code",
   "execution_count": 63,
   "metadata": {},
   "outputs": [],
   "source": [
    "class my_add_mult(object):\n",
    "    def __init__(self, addx = 2, y_sub_mult = [1, 2]):\n",
    "        self.addx = addx\n",
    "        self.y_sub_mult = y_sub_mult\n",
    "        \n",
    "    def __call__(self, sample):\n",
    "        x = sample[0]\n",
    "        y = sample[1]\n",
    "        x = x + self.addx\n",
    "        y = (y - self.y_sub_mult[0]) * self.y_sub_mult[1]\n",
    "        sample = x, y\n",
    "        return sample"
   ]
  },
  {
   "cell_type": "code",
   "execution_count": 64,
   "metadata": {},
   "outputs": [],
   "source": [
    "practice_ds = toy_set()\n",
    "my_a_s_m = my_add_mult()"
   ]
  },
  {
   "cell_type": "code",
   "execution_count": 67,
   "metadata": {},
   "outputs": [
    {
     "name": "stdout",
     "output_type": "stream",
     "text": [
      "Original:\n",
      "Index: 0, x: [2. 2.], y: [1.]\n",
      "Transformed:\n",
      "Index: 0, x: [4. 4.], y: [0.]\n",
      "Original:\n",
      "Index: 1, x: [2. 2.], y: [1.]\n",
      "Transformed:\n",
      "Index: 1, x: [4. 4.], y: [0.]\n",
      "Original:\n",
      "Index: 2, x: [2. 2.], y: [1.]\n",
      "Transformed:\n",
      "Index: 2, x: [4. 4.], y: [0.]\n"
     ]
    }
   ],
   "source": [
    "for i in range(3):\n",
    "    x, y = practice_ds[i]\n",
    "    print('Original:')\n",
    "    print('Index: {}, x: {}, y: {}'.format(i, x.numpy(), y.numpy()))\n",
    "    x_, y_ = my_a_s_m(practice_ds[i])\n",
    "    print('Transformed:')\n",
    "    print('Index: {}, x: {}, y: {}'.format(i, x_.numpy(), y_.numpy()))"
   ]
  },
  {
   "cell_type": "code",
   "execution_count": 68,
   "metadata": {},
   "outputs": [],
   "source": [
    "from torchvision import transforms"
   ]
  },
  {
   "cell_type": "code",
   "execution_count": 77,
   "metadata": {},
   "outputs": [],
   "source": [
    "class mult(object):\n",
    "    def __init__(self, mult=100):\n",
    "        self.mult = mult\n",
    "    \n",
    "    def __call__(self, sample):\n",
    "        x = sample[0]\n",
    "        y = sample[1]\n",
    "        x, y = x * self.mult, y * self.mult\n",
    "        sample = x, y\n",
    "        return sample"
   ]
  },
  {
   "cell_type": "code",
   "execution_count": 78,
   "metadata": {},
   "outputs": [
    {
     "name": "stdout",
     "output_type": "stream",
     "text": [
      "Combination: Compose(\n",
      "    <__main__.add_mult object at 0x000001790CB55148>\n",
      "    <__main__.mult object at 0x000001790CB55988>\n",
      ")\n"
     ]
    }
   ],
   "source": [
    "data_transform = transforms.Compose([add_mult(), mult()])\n",
    "print('Combination:', data_transform)"
   ]
  },
  {
   "cell_type": "code",
   "execution_count": 79,
   "metadata": {},
   "outputs": [
    {
     "data": {
      "text/plain": [
       "(tensor([300., 300.]), tensor([200.]))"
      ]
     },
     "execution_count": 79,
     "metadata": {},
     "output_type": "execute_result"
    }
   ],
   "source": [
    "ds = toy_set()\n",
    "data_transform(ds[0])"
   ]
  },
  {
   "cell_type": "code",
   "execution_count": 81,
   "metadata": {},
   "outputs": [
    {
     "name": "stdout",
     "output_type": "stream",
     "text": [
      "Original x: [2. 2.], y: [1.]\n",
      "Transformed x: [300. 300.], y: [200.]\n"
     ]
    }
   ],
   "source": [
    "x, y = ds[0]\n",
    "x_, y_ = data_transform(ds[0])\n",
    "print('Original x: {}, y: {}'.format(x.numpy(), y.numpy()))\n",
    "print('Transformed x: {}, y: {}'.format(x_.numpy(), y_.numpy()))"
   ]
  },
  {
   "cell_type": "code",
   "execution_count": 82,
   "metadata": {},
   "outputs": [],
   "source": [
    "# Create a new toy_set object with compose object as transform\n",
    "comp_ds = toy_set(transform=data_transform)"
   ]
  },
  {
   "cell_type": "code",
   "execution_count": 88,
   "metadata": {},
   "outputs": [
    {
     "name": "stdout",
     "output_type": "stream",
     "text": [
      "Index 0, x: [300. 300.], y: [200.]\n",
      "Index 1, x: [300. 300.], y: [200.]\n",
      "Index 2, x: [300. 300.], y: [200.]\n"
     ]
    }
   ],
   "source": [
    "for i in range(3):\n",
    "    x, y = comp_ds[i]\n",
    "    print('Index {}, x: {}, y: {}'.format(i, x.numpy(), y.numpy()))"
   ]
  },
  {
   "cell_type": "code",
   "execution_count": 91,
   "metadata": {},
   "outputs": [
    {
     "name": "stdout",
     "output_type": "stream",
     "text": [
      "Index 0, x: [201. 201.], y: [200.]\n",
      "Index 1, x: [201. 201.], y: [200.]\n",
      "Index 2, x: [201. 201.], y: [200.]\n"
     ]
    }
   ],
   "source": [
    "# Practice: Make a compose as mult() execute first and then add_mult(). Apply the compose on toy_set dataset. Print out the first 3 elements in the transformed dataset.\n",
    "practice_transform = transforms.Compose([mult(), add_mult()])\n",
    "practice_ds = toy_set(transform=practice_transform)\n",
    "for i in range(3):\n",
    "    x, y = practice_ds[i]\n",
    "    print('Index {}, x: {}, y: {}'.format(i, x.numpy(), y.numpy()))"
   ]
  }
 ],
 "metadata": {
  "kernelspec": {
   "display_name": "Python 3",
   "language": "python",
   "name": "python3"
  },
  "language_info": {
   "codemirror_mode": {
    "name": "ipython",
    "version": 3
   },
   "file_extension": ".py",
   "mimetype": "text/x-python",
   "name": "python",
   "nbconvert_exporter": "python",
   "pygments_lexer": "ipython3",
   "version": "3.7.9"
  }
 },
 "nbformat": 4,
 "nbformat_minor": 4
}
