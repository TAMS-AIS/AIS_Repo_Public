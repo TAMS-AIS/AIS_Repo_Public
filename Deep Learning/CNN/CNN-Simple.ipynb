{
 "cells": [
  {
   "cell_type": "code",
   "execution_count": 34,
   "metadata": {},
   "outputs": [
    {
     "data": {
      "text/plain": [
       "<torch._C.Generator at 0x29811a2dd30>"
      ]
     },
     "execution_count": 34,
     "metadata": {},
     "output_type": "execute_result"
    }
   ],
   "source": [
    "# Import Packages\n",
    "import torch\n",
    "from torch import nn, optim\n",
    "from torchvision import transforms, datasets\n",
    "from torch.utils.data import DataLoader, Dataset\n",
    "import matplotlib.pyplot as plt\n",
    "import numpy as np\n",
    "import pandas as pd\n",
    "%matplotlib inline\n",
    "torch.manual_seed(0)"
   ]
  },
  {
   "cell_type": "code",
   "execution_count": 41,
   "metadata": {},
   "outputs": [],
   "source": [
    "# Plotting channels of CNN (kernels)\n",
    "def plot_channels(W):\n",
    "    n_out = W.shape[0]\n",
    "    n_in = W.shape[1]\n",
    "    w_min = W.min().item()\n",
    "    w_max = W.max().item()\n",
    "    \n",
    "    fig, axes = plt.subplots(n_out, n_in)\n",
    "    fig.subplots_adjust(hspace = 0.1)\n",
    "    out_index = 0\n",
    "    in_index = 0\n",
    "    for ax in axes.flat:\n",
    "        if in_index > n_in - 1:\n",
    "            out_index += 1\n",
    "            in_index = 0\n",
    "        \n",
    "        ax.imshow(W[out_index, in_index, :, :], vmin = w_min, vmax = w_max, cmap='seismic')\n",
    "        ax.set_yticklabels([])\n",
    "        ax.set_xticklabels([])\n",
    "        in_index += 1\n",
    "    plt.show()"
   ]
  },
  {
   "cell_type": "code",
   "execution_count": 23,
   "metadata": {},
   "outputs": [],
   "source": [
    "# Show images with permutated shape\n",
    "def show(data, label, shape):\n",
    "    plt.imshow(data.reshape(shape), cmap = 'gray')\n",
    "    plt.title('y = ' + str(label))\n",
    "    plt.colorbar()\n",
    "    plt.show()"
   ]
  },
  {
   "cell_type": "code",
   "execution_count": 76,
   "metadata": {},
   "outputs": [],
   "source": [
    "class Data(Dataset):\n",
    "    def __init__(self, N_images, offset=0, p=0.9, train=True):\n",
    "        if train:\n",
    "            torch.manual_seed(1)\n",
    "            \n",
    "        N_images = 2 * (N_images // 2)\n",
    "        images = np.zeros((N_images, 1, 11, 11))\n",
    "        start1 = 3\n",
    "        start2 = 1\n",
    "        self.y = torch.zeros(N_images).type(torch.long)\n",
    "        \n",
    "        for n in range(N_images):\n",
    "            if offset > 0:\n",
    "                low = int(np.random.randint(low=start1, high=start1 + offset, size=1))\n",
    "                high = int(np.random.randint(low=start2, high=start2+offset, size=1))\n",
    "            else:\n",
    "                low = 4\n",
    "                high = 1\n",
    "                \n",
    "            if n <= N_images // 2:\n",
    "                self.y[n] = 0\n",
    "                images[n, 0, high:high+9, low:low+3] = np.random.binomial(1, p, (9, 3))\n",
    "            else:\n",
    "                self.y[n] = 1\n",
    "                images[n, 0, low:low+3, high:high+9] = np.random.binomial(1, p, (3, 9))\n",
    "                \n",
    "        self.x = torch.from_numpy(images).type(torch.FloatTensor)\n",
    "        self.len = self.x.shape[0]\n",
    "        \n",
    "    def __getitem__(self, index):\n",
    "        return self.x[index], self.y[index]\n",
    "    def __len__(self):\n",
    "        return self.len"
   ]
  },
  {
   "cell_type": "code",
   "execution_count": 77,
   "metadata": {},
   "outputs": [],
   "source": [
    "def conv_shape(h_w, kernel_size=2, stride=1, pad=0, dilation=1):\n",
    "    #by Duane Nielsen\n",
    "    from math import floor\n",
    "    if type(kernel_size) is not tuple:\n",
    "        kernel_size = (kernel_size, kernel_size)\n",
    "    h = floor(((h_w[0] + (2 * pad) - (dilation * (kernel_size[0] - 1)) - 1) / stride) + 1)\n",
    "    w = floor(((h_w[1] + (2 * pad) - (dilation * (kernel_size[1] - 1)) - 1) / stride) + 1)\n",
    "    return h, w"
   ]
  },
  {
   "cell_type": "code",
   "execution_count": 78,
   "metadata": {},
   "outputs": [],
   "source": [
    "train_ds = Data(10000)\n",
    "val_ds = Data(1000, train=False)"
   ]
  },
  {
   "cell_type": "code",
   "execution_count": 79,
   "metadata": {},
   "outputs": [
    {
     "data": {
      "image/png": "[encoded data removed]",
      "text/plain": [
       "<Figure size 432x288 with 2 Axes>"
      ]
     },
     "metadata": {
      "needs_background": "light"
     },
     "output_type": "display_data"
    }
   ],
   "source": [
    "show(train_ds[0][0].numpy(), train_ds[0][1].numpy(), shape=(11, 11))"
   ]
  },
  {
   "cell_type": "code",
   "execution_count": 80,
   "metadata": {},
   "outputs": [
    {
     "data": {
      "image/png": "[encoded data removed]",
      "text/plain": [
       "<Figure size 432x288 with 2 Axes>"
      ]
     },
     "metadata": {
      "needs_background": "light"
     },
     "output_type": "display_data"
    }
   ],
   "source": [
    "show(train_ds[9000][0].numpy(), train_ds[9000][1].numpy(), shape=(11, 11))"
   ]
  },
  {
   "cell_type": "code",
   "execution_count": 81,
   "metadata": {},
   "outputs": [
    {
     "name": "stdout",
     "output_type": "stream",
     "text": [
      "Shape 1: (10, 10)\n",
      "Shape 2: (9, 9)\n",
      "Shape 3: (8, 8)\n",
      "Shape 4: (7, 7)\n"
     ]
    }
   ],
   "source": [
    "# Shapes as they change between layers\n",
    "shapes = []\n",
    "shapes.append(conv_shape((11, 11)))\n",
    "for i in range(3):\n",
    "    shapes.append(conv_shape(shapes[i]))\n",
    "    \n",
    "for i, shape in enumerate(shapes):\n",
    "    print(f'Shape {i + 1}: {shape}')"
   ]
  },
  {
   "cell_type": "code",
   "execution_count": 82,
   "metadata": {},
   "outputs": [],
   "source": [
    "class CNN(nn.Module):\n",
    "    def __init__(self, out_1=2, out_2=1, act_func=torch.relu):\n",
    "        super(CNN, self).__init__()\n",
    "        self.act_func = act_func # Default ReLU\n",
    "        self.conv1 = nn.Conv2d(in_channels=1, out_channels=out_1, kernel_size=2)\n",
    "        self.maxpool1 = nn.MaxPool2d(kernel_size=2, stride=1)\n",
    "        self.conv2 = nn.Conv2d(out_1, out_2, 2)\n",
    "        self.maxpool2 = nn.MaxPool2d(2, stride=1)\n",
    "        self.lin1 = nn.Linear(out_2 * 7 * 7, 2) # input is reshaped to a tensor of shape (out_2 * 7 * 7, 1)\n",
    "    def forward(self, x):\n",
    "        x = self.act_func(self.conv1(x))\n",
    "        x = self.maxpool1(x)\n",
    "        x = self.act_func(self.conv2(x))\n",
    "        x = self.maxpool2(x)\n",
    "        x = self.lin1(x.view(x.size(0), -1))\n",
    "        return x"
   ]
  },
  {
   "cell_type": "code",
   "execution_count": 92,
   "metadata": {},
   "outputs": [
    {
     "data": {
      "text/plain": [
       "OrderedDict([('conv1.weight',\n",
       "              tensor([[[[ 0.1665,  0.0592],\n",
       "                        [-0.1172,  0.1587]]],\n",
       "              \n",
       "              \n",
       "                      [[[-0.2430,  0.4746],\n",
       "                        [ 0.1412, -0.3287]]]])),\n",
       "             ('conv1.bias', tensor([ 0.1377, -0.0463])),\n",
       "             ('conv2.weight',\n",
       "              tensor([[[[-0.2488,  0.2577],\n",
       "                        [ 0.1942,  0.2366]],\n",
       "              \n",
       "                       [[-0.2973, -0.3090],\n",
       "                        [-0.0484,  0.3247]]]])),\n",
       "             ('conv2.bias', tensor([-0.1258])),\n",
       "             ('lin1.weight',\n",
       "              tensor([[ 0.1002,  0.1322,  0.0652, -0.1391, -0.0100,  0.0787, -0.0425,  0.0440,\n",
       "                       -0.0910,  0.0175, -0.1278, -0.0715, -0.0769, -0.0173, -0.0227,  0.0656,\n",
       "                       -0.0734, -0.1125, -0.1072,  0.1286,  0.1229, -0.1320,  0.1009, -0.0693,\n",
       "                        0.0216, -0.0620,  0.0574,  0.0377, -0.0008, -0.0793,  0.0972, -0.1250,\n",
       "                        0.0769,  0.0392,  0.1400, -0.1103,  0.0349, -0.1089, -0.1308, -0.1053,\n",
       "                        0.0740, -0.1267, -0.0205,  0.0988,  0.0768, -0.1111, -0.1408,  0.1057,\n",
       "                        0.0765],\n",
       "                      [ 0.0612, -0.0799,  0.0319, -0.0301, -0.0572,  0.0954,  0.0217,  0.0666,\n",
       "                        0.0990, -0.0477,  0.0450,  0.0989,  0.0333, -0.0121,  0.1051, -0.0853,\n",
       "                        0.0579, -0.0592,  0.0614, -0.0019,  0.0651, -0.0389,  0.0758,  0.1226,\n",
       "                        0.0004, -0.0679, -0.0167,  0.0318, -0.0565, -0.1426, -0.1161, -0.0692,\n",
       "                       -0.0886, -0.0595,  0.0513, -0.0491, -0.1051, -0.1093,  0.1118, -0.0335,\n",
       "                       -0.1394, -0.0428,  0.0240, -0.1322,  0.1213, -0.0433,  0.1423,  0.0161,\n",
       "                        0.0209]])),\n",
       "             ('lin1.bias', tensor([ 0.0502, -0.0210]))])"
      ]
     },
     "execution_count": 92,
     "metadata": {},
     "output_type": "execute_result"
    }
   ],
   "source": [
    "model = CNN(2, 1) # Default\n",
    "model.state_dict()"
   ]
  },
  {
   "cell_type": "code",
   "execution_count": 93,
   "metadata": {},
   "outputs": [
    {
     "data": {
      "image/png": "[encoded data removed]",
      "text/plain": [
       "<Figure size 432x288 with 2 Axes>"
      ]
     },
     "metadata": {
      "needs_background": "light"
     },
     "output_type": "display_data"
    }
   ],
   "source": [
    "plot_channels(model.state_dict()['conv1.weight'])"
   ]
  },
  {
   "cell_type": "code",
   "execution_count": 94,
   "metadata": {},
   "outputs": [
    {
     "data": {
      "image/png": "[encoded data removed]",
      "text/plain": [
       "<Figure size 432x288 with 2 Axes>"
      ]
     },
     "metadata": {
      "needs_background": "light"
     },
     "output_type": "display_data"
    }
   ],
   "source": [
    "plot_channels(model.state_dict()['conv2.weight']) # Highly negative on the 2nd kernel channel (The two channels represent the 3d config of it)"
   ]
  },
  {
   "cell_type": "code",
   "execution_count": 95,
   "metadata": {},
   "outputs": [],
   "source": [
    "criterion = nn.CrossEntropyLoss()\n",
    "optimizer = optim.Adam(model.parameters(), lr=0.001)"
   ]
  },
  {
   "cell_type": "code",
   "execution_count": 96,
   "metadata": {},
   "outputs": [],
   "source": [
    "train_loader = DataLoader(train_ds, batch_size=30, shuffle=True)\n",
    "val_loader = DataLoader(val_ds, batch_size=10, shuffle=True)"
   ]
  },
  {
   "cell_type": "code",
   "execution_count": 97,
   "metadata": {},
   "outputs": [],
   "source": [
    "def train(model, optimizer, train_loader, val_loader, criterion, epochs):\n",
    "    results = {'training loss': [], 'val accuracy': []}\n",
    "    for epoch in range(epochs):\n",
    "        epoch_cost = 0\n",
    "        for x, y in train_loader:\n",
    "            y_hat = model(x)\n",
    "            loss = criterion(y_hat, y)\n",
    "            loss.backward()\n",
    "            optimizer.step()\n",
    "            optimizer.zero_grad()\n",
    "            epoch_cost += loss.item()\n",
    "        results['training loss'].append(epoch_cost)\n",
    "        \n",
    "        correct = 0\n",
    "        for x, y in val_loader:\n",
    "            y_hat = model(x)\n",
    "            _, label = torch.max(y_hat.data, 1)\n",
    "            correct += (y == label).sum().item()\n",
    "        results['val accuracy'].append(correct / len(val_loader.dataset))\n",
    "        print(epoch, end=' ')\n",
    "    return results"
   ]
  },
  {
   "cell_type": "code",
   "execution_count": 98,
   "metadata": {},
   "outputs": [
    {
     "name": "stdout",
     "output_type": "stream",
     "text": [
      "0 1 2 3 4 5 6 7 8 9 "
     ]
    }
   ],
   "source": [
    "results = train(model, optimizer, train_loader, val_loader, criterion, 10)"
   ]
  },
  {
   "cell_type": "code",
   "execution_count": 99,
   "metadata": {},
   "outputs": [
    {
     "data": {
      "image/png": "[encoded data removed]",
      "text/plain": [
       "<Figure size 432x288 with 2 Axes>"
      ]
     },
     "metadata": {
      "needs_background": "light"
     },
     "output_type": "display_data"
    }
   ],
   "source": [
    "# Really easy prediction so the accuracy was perfect after one epoch of training\n",
    "fig, ax1 = plt.subplots()\n",
    "color = 'tab:red'\n",
    "ax1.plot(results['training loss'],color=color)\n",
    "ax1.set_xlabel('epoch',color=color)\n",
    "ax1.set_ylabel('total loss',color=color)\n",
    "ax1.tick_params(axis='y', color=color)\n",
    "    \n",
    "ax2 = ax1.twinx()  \n",
    "color = 'tab:blue'\n",
    "ax2.set_ylabel('accuracy', color=color)  \n",
    "ax2.plot(results['val accuracy'], color=color)\n",
    "ax2.tick_params(axis='y', labelcolor=color)\n",
    "fig.tight_layout()"
   ]
  },
  {
   "cell_type": "code",
   "execution_count": 101,
   "metadata": {},
   "outputs": [
    {
     "data": {
      "image/png": "[encoded data removed]",
      "text/plain": [
       "<Figure size 432x288 with 2 Axes>"
      ]
     },
     "metadata": {
      "needs_background": "light"
     },
     "output_type": "display_data"
    }
   ],
   "source": [
    "plot_channels(model.state_dict()['conv1.weight'])"
   ]
  },
  {
   "cell_type": "code",
   "execution_count": 102,
   "metadata": {},
   "outputs": [
    {
     "data": {
      "image/png": "[encoded data removed]",
      "text/plain": [
       "<Figure size 432x288 with 2 Axes>"
      ]
     },
     "metadata": {
      "needs_background": "light"
     },
     "output_type": "display_data"
    }
   ],
   "source": [
    "plot_channels(model.state_dict()['conv2.weight'])"
   ]
  },
  {
   "cell_type": "code",
   "execution_count": null,
   "metadata": {},
   "outputs": [],
   "source": []
  }
 ],
 "metadata": {
  "interpreter": {
   "hash": "6ca1bd87d1cc8058b9d0456be889f3a18f14bc7f9766b78faf012d1540f00375"
  },
  "kernelspec": {
   "display_name": "Python 3.9.7 ('base')",
   "language": "python",
   "name": "python3"
  },
  "language_info": {
   "codemirror_mode": {
    "name": "ipython",
    "version": 3
   },
   "file_extension": ".py",
   "mimetype": "text/x-python",
   "name": "python",
   "nbconvert_exporter": "python",
   "pygments_lexer": "ipython3",
   "version": "3.9.7"
  }
 },
 "nbformat": 4,
 "nbformat_minor": 4
}
