{
 "cells": [
  {
   "cell_type": "code",
   "execution_count": 1,
   "metadata": {},
   "outputs": [
    {
     "data": {
      "text/plain": [
       "<torch._C.Generator at 0x23aa4f93d30>"
      ]
     },
     "execution_count": 1,
     "metadata": {},
     "output_type": "execute_result"
    }
   ],
   "source": [
    "import torch\n",
    "from torch import nn, optim\n",
    "import matplotlib.pyplot as plt\n",
    "import numpy as np\n",
    "from torchvision import datasets, transforms\n",
    "import torch.nn.functional as F\n",
    "%matplotlib inline\n",
    "torch.manual_seed(0)"
   ]
  },
  {
   "cell_type": "code",
   "execution_count": 13,
   "metadata": {},
   "outputs": [],
   "source": [
    "class Net(nn.Module):\n",
    "    def __init__(self, Layers, weight_init=None, act_func=F.relu):\n",
    "        super(Net, self).__init__()\n",
    "        self.act_func = act_func\n",
    "        self.layers = nn.ModuleList()\n",
    "        for i, input_size in enumerate(Layers[:-1]):\n",
    "            output_size = Layers[i + 1]\n",
    "            linear = nn.Linear(input_size, output_size)\n",
    "            if weight_init == 'Xavier':\n",
    "                torch.nn.init.xavier_uniform_(linear.weight)\n",
    "            elif weight_init == 'He':\n",
    "                torch.nn.init.kaiming_uniform_(linear.weight, nonlinearity='relu')\n",
    "            elif weight_init == 'Uniform':\n",
    "                torch.nn.init.uniform_(linear.weight)\n",
    "            self.layers.append(linear)\n",
    "            \n",
    "    def forward(self, x):\n",
    "        for i, layer in enumerate(self.layers):\n",
    "            if i < len(self.layers) - 1:\n",
    "                x = self.act_func(layer(x))\n",
    "            else:\n",
    "                x = layer(x)\n",
    "        return x"
   ]
  },
  {
   "cell_type": "code",
   "execution_count": 28,
   "metadata": {},
   "outputs": [],
   "source": [
    "def train_model(model, criterion, trainloader, val_loader, optimizer, epochs):\n",
    "    results = {'training loss': [], 'val accuracy': []}\n",
    "    for epoch in range(epochs):\n",
    "        epoch_loss = 0\n",
    "        for x, y in trainloader:\n",
    "            y_hat = model(x.view(-1, 28 * 28))\n",
    "            loss = criterion(y_hat, y)\n",
    "            loss.backward()\n",
    "            optimizer.step()\n",
    "            optimizer.zero_grad()\n",
    "            epoch_loss += loss.item()\n",
    "        results['training loss'].append(epoch_loss)\n",
    "        \n",
    "        correct = 0\n",
    "        for x, y in val_loader:\n",
    "            y_pred = model(x.view(-1, 28 * 28))\n",
    "            _, label = torch.max(y_pred, 1)\n",
    "            correct += (label == y).sum().item()\n",
    "        results['val accuracy'].append(correct / len(val_loader.dataset))\n",
    "        \n",
    "        print(epoch, end=' ')\n",
    "    return results"
   ]
  },
  {
   "cell_type": "code",
   "execution_count": 29,
   "metadata": {},
   "outputs": [],
   "source": [
    "train_data = datasets.MNIST(root='../data', train=True, download=True, transform=transforms.ToTensor())\n",
    "val_data = datasets.MNIST(root='../data', train=False, download=True, transform=transforms.ToTensor())"
   ]
  },
  {
   "cell_type": "code",
   "execution_count": 30,
   "metadata": {},
   "outputs": [
    {
     "name": "stdout",
     "output_type": "stream",
     "text": [
      "0 1 2 3 4 5 6 7 8 9 10 11 12 13 14 15 16 17 18 19 20 21 22 23 24 25 26 27 28 29 "
     ]
    }
   ],
   "source": [
    "from torch.utils.data import DataLoader\n",
    "trainloader = DataLoader(train_data, batch_size=30)\n",
    "val_loader = DataLoader(val_data, batch_size=len(val_data))\n",
    "criterion = nn.CrossEntropyLoss()\n",
    "layers = [28 * 28, 100, 200, 100, 10]\n",
    "\n",
    "model = Net(layers)\n",
    "optimizer = optim.SGD(model.parameters(), lr=0.01)\n",
    "results = train_model(model, criterion, trainloader, val_loader, optimizer, 30)"
   ]
  },
  {
   "cell_type": "code",
   "execution_count": 32,
   "metadata": {},
   "outputs": [
    {
     "name": "stdout",
     "output_type": "stream",
     "text": [
      "0 1 2 3 4 5 6 7 8 9 10 11 12 13 14 15 16 17 18 19 20 21 22 23 24 25 26 27 28 29 "
     ]
    }
   ],
   "source": [
    "model_He = Net(layers, weight_init='He')\n",
    "optimizer = optim.SGD(model_He.parameters(), lr=0.01)\n",
    "results_He = train_model(model_He, criterion, trainloader, val_loader, optimizer, 30)"
   ]
  },
  {
   "cell_type": "code",
   "execution_count": 33,
   "metadata": {},
   "outputs": [
    {
     "name": "stdout",
     "output_type": "stream",
     "text": [
      "0 1 2 3 4 5 6 7 8 9 10 11 12 13 14 15 16 17 18 19 20 21 22 23 24 25 26 27 28 29 "
     ]
    }
   ],
   "source": [
    "model_Xavier = Net(layers, weight_init='Xavier')\n",
    "optimizer = optim.SGD(model_Xavier.parameters(), lr=0.01)\n",
    "results_Xavier = train_model(model_Xavier, criterion, trainloader, val_loader, optimizer, 30)"
   ]
  },
  {
   "cell_type": "code",
   "execution_count": 34,
   "metadata": {},
   "outputs": [
    {
     "name": "stdout",
     "output_type": "stream",
     "text": [
      "0 1 2 3 4 5 6 7 8 9 10 11 12 13 14 15 16 17 18 19 20 21 22 23 24 25 26 27 28 29 "
     ]
    }
   ],
   "source": [
    "model_Uniform = Net(layers, weight_init='Uniform')\n",
    "optimizer = optim.SGD(model_Uniform.parameters(), lr=0.01)\n",
    "results_Uniform = train_model(model_Uniform, criterion, trainloader, val_loader, optimizer, 30)"
   ]
  },
  {
   "cell_type": "code",
   "execution_count": 37,
   "metadata": {},
   "outputs": [
    {
     "data": {
      "image/png": "[encoded data removed]",
      "text/plain": [
       "<Figure size 432x288 with 1 Axes>"
      ]
     },
     "metadata": {
      "needs_background": "light"
     },
     "output_type": "display_data"
    }
   ],
   "source": [
    "plt.plot(results['training loss'], label='Default')\n",
    "plt.plot(results_Xavier['training loss'], label='Xavier')\n",
    "plt.plot(results_He['training loss'], label='He')\n",
    "# plt.plot(results_Uniform['training loss'], label='Uniform')\n",
    "plt.legend()\n",
    "plt.xlabel('Epoch')\n",
    "plt.ylabel('Training Loss')\n",
    "plt.show()"
   ]
  },
  {
   "cell_type": "code",
   "execution_count": 36,
   "metadata": {},
   "outputs": [
    {
     "data": {
      "image/png": "[encoded data removed]",
      "text/plain": [
       "<Figure size 432x288 with 1 Axes>"
      ]
     },
     "metadata": {
      "needs_background": "light"
     },
     "output_type": "display_data"
    }
   ],
   "source": [
    "plt.plot(results['val accuracy'], label='Default')\n",
    "plt.plot(results_Xavier['val accuracy'], label='Xavier')\n",
    "plt.plot(results_He['val accuracy'], label='He')\n",
    "plt.plot(results_Uniform['val accuracy'], label='Uniform')\n",
    "plt.legend()\n",
    "plt.xlabel('Epoch')\n",
    "plt.ylabel('Validation Accuracy')\n",
    "plt.show()"
   ]
  }
 ],
 "metadata": {
  "kernelspec": {
   "display_name": "Python 3",
   "language": "python",
   "name": "python3"
  },
  "language_info": {
   "codemirror_mode": {
    "name": "ipython",
    "version": 3
   },
   "file_extension": ".py",
   "mimetype": "text/x-python",
   "name": "python",
   "nbconvert_exporter": "python",
   "pygments_lexer": "ipython3",
   "version": "3.7.9"
  }
 },
 "nbformat": 4,
 "nbformat_minor": 4
}
