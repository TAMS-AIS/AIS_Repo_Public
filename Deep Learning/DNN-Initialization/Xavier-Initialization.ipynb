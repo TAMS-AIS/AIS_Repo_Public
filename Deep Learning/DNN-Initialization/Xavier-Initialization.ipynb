{
 "cells": [
  {
   "cell_type": "markdown",
   "metadata": {},
   "source": [
    "<h1>Test Uniform, Default and Xavier Uniform Initialization on MNIST dataset with tanh activation</h1>\n"
   ]
  },
  {
   "cell_type": "code",
   "execution_count": 4,
   "metadata": {},
   "outputs": [],
   "source": [
    "import torch \n",
    "from torch import nn, optim\n",
    "from torchvision import transforms, datasets\n",
    "import matplotlib.pylab as plt\n",
    "import numpy as np\n",
    "torch.manual_seed(0)\n",
    "%matplotlib inline"
   ]
  },
  {
   "cell_type": "code",
   "execution_count": 48,
   "metadata": {},
   "outputs": [],
   "source": [
    "class Net(nn.Module):\n",
    "    def __init__(self, layers, weight_init = None, act_func = torch.tanh):\n",
    "        super(Net, self).__init__()\n",
    "        self.act_func = act_func\n",
    "        self.layers = nn.ModuleList()\n",
    "        for i, input_size in enumerate(layers[:-1]):\n",
    "            output_size = layers[i + 1]\n",
    "            linear = nn.Linear(input_size, output_size)\n",
    "            if weight_init == 'Xavier':\n",
    "                torch.nn.init.xavier_uniform_(linear.weight)\n",
    "            elif weight_init == 'Uniform':\n",
    "                torch.nn.init.uniform_(linear.weight)\n",
    "            self.layers.append(linear)\n",
    "            \n",
    "    def forward(self, x):\n",
    "        for i, layer in enumerate(self.layers):\n",
    "            if i < len(self.layers) - 1:\n",
    "                x = self.act_func(layer(x))\n",
    "            else:\n",
    "                x = layer(x)\n",
    "        return x"
   ]
  },
  {
   "cell_type": "code",
   "execution_count": 62,
   "metadata": {},
   "outputs": [],
   "source": [
    "def train_model(model, criterion, train_loader, val_loader, optimizer, epochs):\n",
    "    results_dict = {'training loss':[], 'validation accuracy':[]}  \n",
    "    for epoch in range(epochs):\n",
    "        epoch_cost = 0\n",
    "        for x, y in train_loader:\n",
    "            optimizer.zero_grad()\n",
    "            z = model(x.view(-1, 28 * 28))\n",
    "            loss = criterion(z, y)\n",
    "            loss.backward()\n",
    "            optimizer.step()\n",
    "            epoch_cost += loss.item()\n",
    "        results_dict['training loss'].append(epoch_cost)\n",
    "            \n",
    "        correct = 0\n",
    "        for x, y in val_loader:\n",
    "            yhat = model(x.view(-1, 28 * 28))\n",
    "            _, label = torch.max(yhat, 1)\n",
    "            correct += (label==y).sum().item()\n",
    "        accuracy = 100 * (correct / len(val_loader.dataset))\n",
    "        results_dict['validation accuracy'].append(accuracy)\n",
    "        \n",
    "        print(epoch, end=' ')\n",
    "    return results_dict"
   ]
  },
  {
   "cell_type": "code",
   "execution_count": 58,
   "metadata": {},
   "outputs": [],
   "source": [
    "train_data = datasets.MNIST(root='../data', train=True, download=True, transform=transforms.ToTensor())"
   ]
  },
  {
   "cell_type": "code",
   "execution_count": 59,
   "metadata": {},
   "outputs": [],
   "source": [
    "val_data = datasets.MNIST(root='../data', train=False, download=True, transform=transforms.ToTensor())"
   ]
  },
  {
   "cell_type": "code",
   "execution_count": 60,
   "metadata": {},
   "outputs": [],
   "source": [
    "from torch.utils.data import DataLoader\n",
    "trainloader = DataLoader(dataset=train_data, batch_size=30, shuffle=True)\n",
    "val_loader = DataLoader(dataset=val_data, batch_size=5000, shuffle=False)\n",
    "\n",
    "criterion = nn.CrossEntropyLoss()\n",
    "\n",
    "layers = [28 * 28, 100, 10, 100, 10, 100, 10]"
   ]
  },
  {
   "cell_type": "code",
   "execution_count": 63,
   "metadata": {},
   "outputs": [
    {
     "name": "stdout",
     "output_type": "stream",
     "text": [
      "0 1 2 3 4 5 6 7 8 9 10 11 12 13 14 15 16 17 18 19 20 21 22 23 24 25 26 27 28 29 "
     ]
    }
   ],
   "source": [
    "model = Net(layers)\n",
    "optimizer = torch.optim.SGD(model.parameters(), lr=0.01)\n",
    "training_results = train_model(model, criterion, trainloader, val_loader, optimizer, epochs=30)"
   ]
  },
  {
   "cell_type": "code",
   "execution_count": 67,
   "metadata": {},
   "outputs": [
    {
     "name": "stdout",
     "output_type": "stream",
     "text": [
      "0 1 2 3 4 5 6 7 8 9 10 11 12 13 14 15 16 17 18 19 20 21 22 23 24 25 26 27 28 29 "
     ]
    }
   ],
   "source": [
    "model_Xavier = Net(layers, weight_init='Xavier')\n",
    "optimizer = torch.optim.SGD(model_Xavier.parameters(), lr=0.01)\n",
    "training_results_Xavier = train_model(model_Xavier, criterion, trainloader, val_loader, optimizer, epochs=30)"
   ]
  },
  {
   "cell_type": "code",
   "execution_count": 69,
   "metadata": {},
   "outputs": [
    {
     "name": "stdout",
     "output_type": "stream",
     "text": [
      "0 1 2 3 4 5 6 7 8 9 10 11 12 13 14 15 16 17 18 19 20 21 22 23 24 25 26 27 28 29 "
     ]
    }
   ],
   "source": [
    "model_Uniform = Net(layers, weight_init='Uniform')\n",
    "optimizer = torch.optim.SGD(model_Uniform.parameters(), lr=0.01)\n",
    "training_results_Uniform = train_model(model_Uniform, criterion, trainloader, val_loader, optimizer, epochs=30)"
   ]
  },
  {
   "cell_type": "code",
   "execution_count": 73,
   "metadata": {},
   "outputs": [
    {
     "data": {
      "image/png": "[encoded data removed]",
      "text/plain": [
       "<Figure size 432x288 with 1 Axes>"
      ]
     },
     "metadata": {
      "needs_background": "light"
     },
     "output_type": "display_data"
    }
   ],
   "source": [
    "plt.plot(training_results_Xavier['training loss'], label='Xavier')\n",
    "plt.plot(training_results['training loss'], label='Default')\n",
    "plt.plot(training_results_Uniform['training loss'], label='Uniform')\n",
    "plt.ylabel('loss')\n",
    "plt.xlabel('Epoch')  \n",
    "plt.title('Training Loss')\n",
    "plt.legend()\n",
    "plt.show()"
   ]
  },
  {
   "cell_type": "code",
   "execution_count": 71,
   "metadata": {},
   "outputs": [
    {
     "data": {
      "image/png": "[encoded data removed]",
      "text/plain": [
       "<Figure size 432x288 with 1 Axes>"
      ]
     },
     "metadata": {
      "needs_background": "light"
     },
     "output_type": "display_data"
    }
   ],
   "source": [
    "plt.plot(training_results_Xavier['validation accuracy'], label='Xavier')\n",
    "plt.plot(training_results['validation accuracy'], label='Default')\n",
    "plt.plot(training_results_Uniform['validation accuracy'], label='Uniform') \n",
    "plt.ylabel('validation accuracy')\n",
    "plt.xlabel('epochs')   \n",
    "plt.legend()\n",
    "plt.show()"
   ]
  }
 ],
 "metadata": {
  "kernelspec": {
   "display_name": "Python 3",
   "language": "python",
   "name": "python3"
  },
  "language_info": {
   "codemirror_mode": {
    "name": "ipython",
    "version": 3
   },
   "file_extension": ".py",
   "mimetype": "text/x-python",
   "name": "python",
   "nbconvert_exporter": "python",
   "pygments_lexer": "ipython3",
   "version": "3.7.9"
  }
 },
 "nbformat": 4,
 "nbformat_minor": 4
}
