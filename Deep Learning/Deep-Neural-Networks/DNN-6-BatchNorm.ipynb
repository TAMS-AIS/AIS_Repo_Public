{
 "cells": [
  {
   "cell_type": "markdown",
   "metadata": {},
   "source": [
    "## Batch Normalization"
   ]
  },
  {
   "cell_type": "code",
   "execution_count": 3,
   "metadata": {},
   "outputs": [
    {
     "data": {
      "text/plain": [
       "<torch._C.Generator at 0x2120eba3d30>"
      ]
     },
     "execution_count": 3,
     "metadata": {},
     "output_type": "execute_result"
    }
   ],
   "source": [
    "import torch\n",
    "from torch import nn, optim\n",
    "from torchvision import datasets, transforms\n",
    "import torch.nn.functional as F\n",
    "import matplotlib.pyplot as plt\n",
    "import numpy as np\n",
    "from torch.utils.data import Dataset, DataLoader\n",
    "%matplotlib inline\n",
    "torch.manual_seed(0)"
   ]
  },
  {
   "cell_type": "code",
   "execution_count": 13,
   "metadata": {},
   "outputs": [],
   "source": [
    "class Net(nn.Module):\n",
    "    def __init__(self, dim_in, dim_H1, dim_H2, dim_out, act_func=nn.Sigmoid(), use_bn=True):\n",
    "        super(Net, self).__init__()\n",
    "        self.act_func = act_func\n",
    "        self.use_bn = use_bn\n",
    "        self.Linear1 = nn.Linear(dim_in, dim_H1)\n",
    "        self.Linear2 = nn.Linear(dim_H1, dim_H2)\n",
    "        self.Linear3 = nn.Linear(dim_H2, dim_out)\n",
    "        \n",
    "        self.bn1 = nn.BatchNorm1d(dim_H1) # Outputs of all but last linear layers\n",
    "        self.bn2 = nn.BatchNorm1d(dim_H2)\n",
    "        \n",
    "    def forward(self, x):\n",
    "        x = self.act_func(self.bn1(self.Linear1(x)) if self.use_bn else self.Linear1(x))\n",
    "        x = self.act_func(self.bn2(self.Linear2(x)) if self.use_bn else self.Linear2(x))\n",
    "        x = self.Linear3(x)\n",
    "        return x"
   ]
  },
  {
   "cell_type": "code",
   "execution_count": 11,
   "metadata": {},
   "outputs": [],
   "source": [
    "def train_model(model, criterion, trainloader, val_loader, optimizer, epochs):\n",
    "    results_dict = {'training loss': [], 'val accuracy': []}\n",
    "    for epoch in range(epochs):\n",
    "        epoch_loss = 0\n",
    "        for x, y in trainloader:\n",
    "            y_hat = model(x.view(-1, 28 * 28)) # MNIST\n",
    "            loss = criterion(y_hat, y)\n",
    "            epoch_loss += loss.item()\n",
    "            loss.backward()\n",
    "            optimizer.step()\n",
    "            optimizer.zero_grad()\n",
    "        results_dict['training loss'].append(epoch_loss)\n",
    "        \n",
    "        correct = 0\n",
    "        for x, y in val_loader:\n",
    "            y_pred = model(x.view(-1, 28 * 28))\n",
    "            _, label = torch.max(y_pred, 1)\n",
    "            correct += (label==y).sum().item()\n",
    "        results_dict['val accuracy'].append(correct / len(val_loader.dataset))\n",
    "        print(epoch, end=' ')\n",
    "    return results_dict"
   ]
  },
  {
   "cell_type": "code",
   "execution_count": 9,
   "metadata": {},
   "outputs": [],
   "source": [
    "train_data = datasets.MNIST(root='../data', download=True, train=True, transform=transforms.ToTensor())\n",
    "val_data = datasets.MNIST(root='../data', download=True, train=False, transform=transforms.ToTensor())\n",
    "\n",
    "trainloader = DataLoader(train_data, batch_size=30)\n",
    "val_loader = DataLoader(val_data, batch_size=len(val_data))"
   ]
  },
  {
   "cell_type": "code",
   "execution_count": 10,
   "metadata": {},
   "outputs": [],
   "source": [
    "criterion = nn.CrossEntropyLoss()"
   ]
  },
  {
   "cell_type": "code",
   "execution_count": 14,
   "metadata": {},
   "outputs": [
    {
     "name": "stdout",
     "output_type": "stream",
     "text": [
      "0 1 2 3 4 5 6 7 8 9 10 11 12 13 14 15 16 17 18 19 20 21 22 23 24 25 26 27 28 29 "
     ]
    }
   ],
   "source": [
    "model = Net(28 * 28, 100, 100, 10, use_bn=False)\n",
    "optimizer = optim.SGD(model.parameters(), lr=0.1)\n",
    "results = train_model(model, criterion, trainloader, val_loader, optimizer, 30)"
   ]
  },
  {
   "cell_type": "code",
   "execution_count": 20,
   "metadata": {},
   "outputs": [
    {
     "name": "stdout",
     "output_type": "stream",
     "text": [
      "0 1 2 3 4 5 6 7 8 9 10 11 12 13 14 15 16 17 18 19 20 21 22 23 24 25 26 27 28 29 "
     ]
    }
   ],
   "source": [
    "model_bn = Net(28 * 28, 100, 100, 10) # With batch normalization\n",
    "optimizer = optim.SGD(model_bn.parameters(), lr=0.1)\n",
    "results_bn = train_model(model_bn, criterion, trainloader, val_loader, optimizer, 30)"
   ]
  },
  {
   "cell_type": "code",
   "execution_count": 21,
   "metadata": {},
   "outputs": [
    {
     "data": {
      "image/png": "[encoded data removed]",
      "text/plain": [
       "<Figure size 432x288 with 1 Axes>"
      ]
     },
     "metadata": {
      "needs_background": "light"
     },
     "output_type": "display_data"
    }
   ],
   "source": [
    "plt.plot(results['training loss'], label='No BN')\n",
    "plt.plot(results_bn['training loss'], label='With BN')\n",
    "plt.legend()\n",
    "plt.xlabel('Epoch')\n",
    "plt.ylabel('Loss')\n",
    "plt.show()"
   ]
  },
  {
   "cell_type": "code",
   "execution_count": 22,
   "metadata": {},
   "outputs": [
    {
     "data": {
      "image/png": "[encoded data removed]",
      "text/plain": [
       "<Figure size 432x288 with 1 Axes>"
      ]
     },
     "metadata": {
      "needs_background": "light"
     },
     "output_type": "display_data"
    }
   ],
   "source": [
    "plt.plot(results['val accuracy'], label='No BN')\n",
    "plt.plot(results_bn['val accuracy'], label='With BN')\n",
    "plt.legend()\n",
    "plt.xlabel('Epoch')\n",
    "plt.ylabel('Accuracy')\n",
    "plt.show()"
   ]
  },
  {
   "cell_type": "code",
   "execution_count": null,
   "metadata": {},
   "outputs": [],
   "source": []
  }
 ],
 "metadata": {
  "kernelspec": {
   "display_name": "Python 3",
   "language": "python",
   "name": "python3"
  },
  "language_info": {
   "codemirror_mode": {
    "name": "ipython",
    "version": 3
   },
   "file_extension": ".py",
   "mimetype": "text/x-python",
   "name": "python",
   "nbconvert_exporter": "python",
   "pygments_lexer": "ipython3",
   "version": "3.7.9"
  }
 },
 "nbformat": 4,
 "nbformat_minor": 4
}
