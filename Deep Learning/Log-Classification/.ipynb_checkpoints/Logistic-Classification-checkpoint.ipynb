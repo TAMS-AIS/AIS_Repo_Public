{
 "cells": [
  {
   "cell_type": "code",
   "execution_count": 4,
   "metadata": {},
   "outputs": [
    {
     "data": {
      "text/plain": [
       "<torch._C.Generator at 0x24b4750fe10>"
      ]
     },
     "execution_count": 4,
     "metadata": {},
     "output_type": "execute_result"
    }
   ],
   "source": [
    "import torch\n",
    "import numpy as np\n",
    "import matplotlib.pyplot as plt\n",
    "from torch.utils.data import DataLoader, Dataset\n",
    "from torch import nn, optim, log\n",
    "%matplotlib inline\n",
    "torch.manual_seed(0)"
   ]
  },
  {
   "cell_type": "code",
   "execution_count": 16,
   "metadata": {},
   "outputs": [],
   "source": [
    "class Data(Dataset):\n",
    "    def __init__(self, x, y):\n",
    "        self.x = x\n",
    "        self.y = y\n",
    "        self.len = self.x.shape[0]\n",
    "        \n",
    "    def __getitem__(self, index):\n",
    "        return self.x[index], self.y[index]\n",
    "    \n",
    "    def __len__(self):\n",
    "        return self.len"
   ]
  },
  {
   "cell_type": "code",
   "execution_count": 17,
   "metadata": {},
   "outputs": [],
   "source": [
    "x = torch.arange(-1, 1, 0.1).view(-1, 1)\n",
    "y = torch.zeros(x.shape[0], 1)\n",
    "y[x[:, 0] > 0.2] = 1\n",
    "ds = Data(x, y)"
   ]
  },
  {
   "cell_type": "code",
   "execution_count": 119,
   "metadata": {},
   "outputs": [],
   "source": [
    "class logistic_regression(nn.Module):\n",
    "    def __init__(self, input_size, output_size):\n",
    "        super(logistic_regression, self).__init__()\n",
    "        self.Sequential = nn.Sequential(nn.Linear(input_size, output_size), nn.Sigmoid())\n",
    "        \n",
    "    def forward(self, x):\n",
    "        return self.Sequential(x)"
   ]
  },
  {
   "cell_type": "code",
   "execution_count": 146,
   "metadata": {},
   "outputs": [
    {
     "data": {
      "text/plain": [
       "OrderedDict([('Sequential.0.weight', tensor([[-0.4721]])),\n",
       "             ('Sequential.0.bias', tensor([0.9190]))])"
      ]
     },
     "execution_count": 146,
     "metadata": {},
     "output_type": "execute_result"
    }
   ],
   "source": [
    "model = logistic_regression(1, 1)\n",
    "model.state_dict()"
   ]
  },
  {
   "cell_type": "code",
   "execution_count": 147,
   "metadata": {},
   "outputs": [
    {
     "name": "stdout",
     "output_type": "stream",
     "text": [
      "OrderedDict([('Sequential.0.weight', tensor([[-5.]])), ('Sequential.0.bias', tensor([-10.]))])\n"
     ]
    }
   ],
   "source": [
    "model.state_dict()['Sequential.0.weight'][0] = torch.tensor([[-5]])\n",
    "model.state_dict()['Sequential.0.bias'][0] = torch.tensor([[-10]])\n",
    "print(model.state_dict())"
   ]
  },
  {
   "cell_type": "code",
   "execution_count": 148,
   "metadata": {},
   "outputs": [],
   "source": [
    "trainloader = DataLoader(dataset=ds, batch_size=3)\n",
    "def criterion(y_hat, y):\n",
    "    out = -1 * torch.mean(y * log(y_hat) + (1-y) * log(1-y_hat))\n",
    "    return out\n",
    "optimizer = optim.SGD(model.parameters(), lr=2)"
   ]
  },
  {
   "cell_type": "code",
   "execution_count": 149,
   "metadata": {},
   "outputs": [],
   "source": [
    "def train_model(epochs, loss_arr, model_, optimizer_, criterion_):\n",
    "    for epoch in range(epochs):\n",
    "        for x, y in trainloader:\n",
    "            y_hat = model_(x)\n",
    "            loss = criterion_(y_hat, y)\n",
    "            loss_arr.append(loss.item())\n",
    "            \n",
    "            optimizer_.zero_grad()\n",
    "            loss.backward()\n",
    "            optimizer_.step()"
   ]
  },
  {
   "cell_type": "code",
   "execution_count": 150,
   "metadata": {},
   "outputs": [],
   "source": [
    "LOSS = []\n",
    "train_model(100, LOSS, model, optimizer, criterion)"
   ]
  },
  {
   "cell_type": "code",
   "execution_count": 151,
   "metadata": {},
   "outputs": [
    {
     "name": "stdout",
     "output_type": "stream",
     "text": [
      "Training accuracy: 1.0\n"
     ]
    }
   ],
   "source": [
    "y_hat = model(ds.x).detach().numpy()\n",
    "label = np.where(y_hat > 0.5, 1, 0).astype(float)\n",
    "print('Training accuracy:', np.mean(np.where(label == ds.y.numpy(), 1, 0)))"
   ]
  },
  {
   "cell_type": "code",
   "execution_count": 152,
   "metadata": {},
   "outputs": [],
   "source": [
    "# Practice using nn.BCELoss instead of custom criterion (same thing)\n",
    "model1 = logistic_regression(1, 1)\n",
    "model1.state_dict()['Sequential.0.weight'] = torch.tensor([[-5]])\n",
    "model1.state_dict()['Sequential.0.bias'] = torch.tensor([[-10]])\n",
    "\n",
    "criterion1 = nn.BCELoss()\n",
    "optimizer1 = optim.SGD(model1.parameters(), lr=2)\n",
    "LOSS2 = []\n",
    "\n",
    "train_model(100, LOSS2, model1, optimizer1, criterion1)"
   ]
  },
  {
   "cell_type": "code",
   "execution_count": 154,
   "metadata": {},
   "outputs": [
    {
     "name": "stdout",
     "output_type": "stream",
     "text": [
      "Training accuracy: 1.0\n"
     ]
    }
   ],
   "source": [
    "y_hat_ = model1(ds.x).detach().numpy()\n",
    "label = np.where(y_hat_ > 0.5, 1, 0).astype(float)\n",
    "print('Training accuracy:', np.mean(np.where(label == ds.y.numpy(), 1, 0)))"
   ]
  }
 ],
 "metadata": {
  "kernelspec": {
   "display_name": "Python 3",
   "language": "python",
   "name": "python3"
  },
  "language_info": {
   "codemirror_mode": {
    "name": "ipython",
    "version": 3
   },
   "file_extension": ".py",
   "mimetype": "text/x-python",
   "name": "python",
   "nbconvert_exporter": "python",
   "pygments_lexer": "ipython3",
   "version": "3.7.9"
  }
 },
 "nbformat": 4,
 "nbformat_minor": 4
}
