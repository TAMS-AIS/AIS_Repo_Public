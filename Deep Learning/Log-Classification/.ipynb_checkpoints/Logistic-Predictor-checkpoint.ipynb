{
 "cells": [
  {
   "cell_type": "code",
   "execution_count": 1,
   "metadata": {},
   "outputs": [],
   "source": [
    "import torch\n",
    "import matplotlib.pyplot as plt\n",
    "import numpy as np\n",
    "from torch.utils.data import DataLoader, Dataset\n",
    "from torch import nn, optim\n",
    "%matplotlib inline"
   ]
  },
  {
   "cell_type": "code",
   "execution_count": 2,
   "metadata": {},
   "outputs": [
    {
     "data": {
      "text/plain": [
       "<torch._C.Generator at 0x1e72725ad30>"
      ]
     },
     "execution_count": 2,
     "metadata": {},
     "output_type": "execute_result"
    }
   ],
   "source": [
    "torch.manual_seed(1)"
   ]
  },
  {
   "cell_type": "code",
   "execution_count": 6,
   "metadata": {},
   "outputs": [
    {
     "data": {
      "text/plain": [
       "tensor([[-100.0000],\n",
       "        [ -99.9000],\n",
       "        [ -99.8000],\n",
       "        ...,\n",
       "        [  99.7000],\n",
       "        [  99.8000],\n",
       "        [  99.9000]])"
      ]
     },
     "execution_count": 6,
     "metadata": {},
     "output_type": "execute_result"
    }
   ],
   "source": [
    "z = torch.arange(-100, 100, 0.1).view(-1, 1)\n",
    "z"
   ]
  },
  {
   "cell_type": "code",
   "execution_count": 7,
   "metadata": {},
   "outputs": [
    {
     "data": {
      "image/png": "[encoded data removed]",
      "text/plain": [
       "<Figure size 432x288 with 1 Axes>"
      ]
     },
     "metadata": {
      "needs_background": "light"
     },
     "output_type": "display_data"
    }
   ],
   "source": [
    "sig = nn.Sigmoid()\n",
    "y_hat = sig(z) # or y_hat = torch.sigmoid(z)\n",
    "\n",
    "plt.plot(z.numpy(), y_hat.numpy())\n",
    "plt.xlabel('z')\n",
    "plt.ylabel('sig')\n",
    "plt.show()"
   ]
  },
  {
   "cell_type": "code",
   "execution_count": 17,
   "metadata": {},
   "outputs": [
    {
     "name": "stdout",
     "output_type": "stream",
     "text": [
      "tensor([[1., 1.]]) tensor([[  1., 100.],\n",
      "        [  1.,   2.],\n",
      "        [  1.,   3.]])\n"
     ]
    }
   ],
   "source": [
    "x = torch.tensor([1.0, 1.0]).view(1, 2)\n",
    "X = torch.FloatTensor([[1, 100], [1, 2], [1, 3]])\n",
    "print(x, X)"
   ]
  },
  {
   "cell_type": "code",
   "execution_count": 18,
   "metadata": {},
   "outputs": [
    {
     "data": {
      "text/plain": [
       "(tensor([[0.6544]], grad_fn=<SigmoidBackward>),\n",
       " tensor([[1.0537e-06],\n",
       "         [6.2078e-01],\n",
       "         [5.8598e-01]], grad_fn=<SigmoidBackward>))"
      ]
     },
     "execution_count": 18,
     "metadata": {},
     "output_type": "execute_result"
    }
   ],
   "source": [
    "model = nn.Sequential(nn.Linear(2, 1), nn.Sigmoid())\n",
    "model(x), model(X)"
   ]
  },
  {
   "cell_type": "code",
   "execution_count": 19,
   "metadata": {},
   "outputs": [
    {
     "name": "stdout",
     "output_type": "stream",
     "text": [
      "OrderedDict([('0.weight', tensor([[ 0.4241, -0.1455]])), ('0.bias', tensor([0.3597]))])\n"
     ]
    }
   ],
   "source": [
    "print(model.state_dict())"
   ]
  },
  {
   "cell_type": "code",
   "execution_count": 20,
   "metadata": {},
   "outputs": [],
   "source": [
    "class logistic_regression(nn.Module):\n",
    "    def __init__(self, input_size):\n",
    "        super(logistic_regression, self).__init__()\n",
    "        self.Linear = nn.Linear(input_size, 1)\n",
    "        \n",
    "    def forward(self, x):\n",
    "        return torch.sigmoid(self.Linear(x))"
   ]
  },
  {
   "cell_type": "code",
   "execution_count": 21,
   "metadata": {},
   "outputs": [
    {
     "data": {
      "text/plain": [
       "(tensor([[0.5041]], grad_fn=<SigmoidBackward>),\n",
       " tensor([[8.1169e-07],\n",
       "         [4.6943e-01],\n",
       "         [1.0000e+00]], grad_fn=<SigmoidBackward>))"
      ]
     },
     "execution_count": 21,
     "metadata": {},
     "output_type": "execute_result"
    }
   ],
   "source": [
    "x = torch.tensor([[1.0]])\n",
    "X = torch.tensor([[-100], [0], [100.0]])\n",
    "model = logistic_regression(1)\n",
    "model(x), model(X)"
   ]
  },
  {
   "cell_type": "code",
   "execution_count": 22,
   "metadata": {},
   "outputs": [
    {
     "data": {
      "text/plain": [
       "OrderedDict([('Linear.weight', tensor([[0.1390]])),\n",
       "             ('Linear.bias', tensor([-0.1224]))])"
      ]
     },
     "execution_count": 22,
     "metadata": {},
     "output_type": "execute_result"
    }
   ],
   "source": [
    "model.state_dict()"
   ]
  },
  {
   "cell_type": "code",
   "execution_count": 23,
   "metadata": {},
   "outputs": [
    {
     "name": "stdout",
     "output_type": "stream",
     "text": [
      "OrderedDict([('Linear.weight', tensor([[0.1961, 0.0349]])), ('Linear.bias', tensor([0.2583]))])\n",
      "tensor([[0.6281]], grad_fn=<SigmoidBackward>) tensor([[1.0000e+00],\n",
      "        [5.6421e-01],\n",
      "        [1.2869e-07]], grad_fn=<SigmoidBackward>)\n"
     ]
    }
   ],
   "source": [
    "x = torch.tensor([[1.0, 2.0]])\n",
    "X = torch.tensor([[100, -100], [0.0, 0.0], [-100, 100]])\n",
    "model = logistic_regression(2)\n",
    "print(model.state_dict())\n",
    "print(model(x), model(X))"
   ]
  },
  {
   "cell_type": "code",
   "execution_count": 25,
   "metadata": {},
   "outputs": [
    {
     "data": {
      "text/plain": [
       "tensor([[0.7399]], grad_fn=<SigmoidBackward>)"
      ]
     },
     "execution_count": 25,
     "metadata": {},
     "output_type": "execute_result"
    }
   ],
   "source": [
    "# Practice: Make your model and make the prediction\n",
    "X = torch.tensor([-10.0])\n",
    "X = X.view(-1, 1)\n",
    "model = logistic_regression(1)\n",
    "model(X)"
   ]
  }
 ],
 "metadata": {
  "kernelspec": {
   "display_name": "Python 3",
   "language": "python",
   "name": "python3"
  },
  "language_info": {
   "codemirror_mode": {
    "name": "ipython",
    "version": 3
   },
   "file_extension": ".py",
   "mimetype": "text/x-python",
   "name": "python",
   "nbconvert_exporter": "python",
   "pygments_lexer": "ipython3",
   "version": "3.7.9"
  }
 },
 "nbformat": 4,
 "nbformat_minor": 4
}
