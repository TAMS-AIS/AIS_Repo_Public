{
 "cells": [
  {
   "cell_type": "code",
   "execution_count": 1,
   "metadata": {},
   "outputs": [],
   "source": [
    "import numpy as np\n",
    "import matplotlib.pyplot as plt\n",
    "import pandas as pd\n",
    "from sklearn import preprocessing\n",
    "%matplotlib inline"
   ]
  },
  {
   "cell_type": "code",
   "execution_count": 2,
   "metadata": {},
   "outputs": [],
   "source": [
    "df = pd.read_csv('https://cf-courses-data.s3.us.cloud-object-storage.appdomain.cloud/IBMDeveloperSkillsNetwork-ML0101EN-SkillsNetwork/labs/Module%203/data/teleCust1000t.csv')"
   ]
  },
  {
   "cell_type": "code",
   "execution_count": 8,
   "metadata": {},
   "outputs": [
    {
     "data": {
      "text/plain": [
       "3    281\n",
       "1    266\n",
       "4    236\n",
       "2    217\n",
       "Name: custcat, dtype: int64"
      ]
     },
     "execution_count": 8,
     "metadata": {},
     "output_type": "execute_result"
    }
   ],
   "source": [
    "df['custcat'].value_counts()"
   ]
  },
  {
   "cell_type": "code",
   "execution_count": 1,
   "metadata": {},
   "outputs": [
    {
     "ename": "NameError",
     "evalue": "name 'df' is not defined",
     "output_type": "error",
     "traceback": [
      "\u001b[1;31m---------------------------------------------------------------------------\u001b[0m",
      "\u001b[1;31mNameError\u001b[0m                                 Traceback (most recent call last)",
      "\u001b[1;32m<ipython-input-1-63286c231ce6>\u001b[0m in \u001b[0;36m<module>\u001b[1;34m\u001b[0m\n\u001b[1;32m----> 1\u001b[1;33m \u001b[0mx_data\u001b[0m \u001b[1;33m=\u001b[0m \u001b[0mdf\u001b[0m\u001b[1;33m[\u001b[0m\u001b[1;33m[\u001b[0m\u001b[1;34m'region'\u001b[0m\u001b[1;33m,\u001b[0m \u001b[1;34m'tenure'\u001b[0m\u001b[1;33m,\u001b[0m\u001b[1;34m'age'\u001b[0m\u001b[1;33m,\u001b[0m \u001b[1;34m'marital'\u001b[0m\u001b[1;33m,\u001b[0m \u001b[1;34m'address'\u001b[0m\u001b[1;33m,\u001b[0m \u001b[1;34m'income'\u001b[0m\u001b[1;33m,\u001b[0m \u001b[1;34m'ed'\u001b[0m\u001b[1;33m,\u001b[0m \u001b[1;34m'employ'\u001b[0m\u001b[1;33m,\u001b[0m\u001b[1;34m'retire'\u001b[0m\u001b[1;33m,\u001b[0m \u001b[1;34m'gender'\u001b[0m\u001b[1;33m,\u001b[0m \u001b[1;34m'reside'\u001b[0m\u001b[1;33m]\u001b[0m\u001b[1;33m]\u001b[0m\u001b[1;33m\u001b[0m\u001b[1;33m\u001b[0m\u001b[0m\n\u001b[0m\u001b[0;32m      2\u001b[0m \u001b[0mx_transformed\u001b[0m \u001b[1;33m=\u001b[0m \u001b[0mpreprocessing\u001b[0m\u001b[1;33m.\u001b[0m\u001b[0mStandardScaler\u001b[0m\u001b[1;33m(\u001b[0m\u001b[1;33m)\u001b[0m\u001b[1;33m.\u001b[0m\u001b[0mfit\u001b[0m\u001b[1;33m(\u001b[0m\u001b[0mx_data\u001b[0m\u001b[1;33m)\u001b[0m\u001b[1;33m.\u001b[0m\u001b[0mtransform\u001b[0m\u001b[1;33m(\u001b[0m\u001b[0mx_data\u001b[0m\u001b[1;33m.\u001b[0m\u001b[0mastype\u001b[0m\u001b[1;33m(\u001b[0m\u001b[0mfloat\u001b[0m\u001b[1;33m)\u001b[0m\u001b[1;33m)\u001b[0m\u001b[1;33m\u001b[0m\u001b[1;33m\u001b[0m\u001b[0m\n\u001b[0;32m      3\u001b[0m \u001b[0my_data\u001b[0m \u001b[1;33m=\u001b[0m \u001b[0mdf\u001b[0m\u001b[1;33m[\u001b[0m\u001b[1;34m'custcat'\u001b[0m\u001b[1;33m]\u001b[0m\u001b[1;33m.\u001b[0m\u001b[0mto_numpy\u001b[0m\u001b[1;33m(\u001b[0m\u001b[1;33m)\u001b[0m\u001b[1;33m\u001b[0m\u001b[1;33m\u001b[0m\u001b[0m\n",
      "\u001b[1;31mNameError\u001b[0m: name 'df' is not defined"
     ]
    }
   ],
   "source": [
    "x_data = df[['region', 'tenure','age', 'marital', 'address', 'income', 'ed', 'employ','retire', 'gender', 'reside']]\n",
    "x_transformed = preprocessing.StandardScaler().fit(x_data).transform(x_data.astype(float))\n",
    "y_data = df['custcat'].to_numpy()"
   ]
  },
  {
   "cell_type": "code",
   "execution_count": 80,
   "metadata": {},
   "outputs": [
    {
     "name": "stdout",
     "output_type": "stream",
     "text": [
      "Training data:  (800, 11) (800,)\n",
      "Testing data:  (200, 11) (200,)\n"
     ]
    }
   ],
   "source": [
    "from sklearn.model_selection import train_test_split\n",
    "x_train, x_test, y_train, y_test = train_test_split(x_data, y_data, test_size=0.2, random_state=4)\n",
    "print('Training data: ', x_train.shape, y_train.shape)\n",
    "print('Testing data: ', x_test.shape, y_test.shape)"
   ]
  },
  {
   "cell_type": "code",
   "execution_count": 81,
   "metadata": {},
   "outputs": [
    {
     "name": "stdout",
     "output_type": "stream",
     "text": [
      "[3 1 3 4 4 3 3 1 2 2 4 1 3 4 3 1 2 2 3 2 3 3 4 2 1 3 1 4 1 4 2 4 4 2 1 2 3\n",
      " 4 1 1 1 4 3 2 3 1 4 1 2 4 3 1 2 1 3 1 3 1 1 1 1 2 4 2 4 3 1 2 2 2 1 3 3 3\n",
      " 1 2 3 3 1 3 4 3 1 1 1 1 3 4 1 3 3 1 1 3 1 3 1 2 1 4 3 1 3 1 3 2 3 2 2 3 1\n",
      " 1 2 4 3 1 1 2 2 1 1 1 2 4 1 1 4 4 1 1 1 3 1 2 1 3 2 1 2 1 2 3 3 2 1 1 1 4\n",
      " 1 2 1 3 2 3 3 4 3 1 1 2 1 3 1 1 3 2 1 1 4 1 2 3 3 3 4 3 4 1 4 4 3 2 1 1 3\n",
      " 3 1 3 3 1 3 1 2 2 3 3 1 2 2 3]\n"
     ]
    }
   ],
   "source": [
    "from sklearn.neighbors import KNeighborsClassifier\n",
    "model = KNeighborsClassifier(n_neighbors=4)\n",
    "model.fit(x_train, y_train)\n",
    "y_hat = model.predict(x_test)\n",
    "print(y_hat)"
   ]
  },
  {
   "cell_type": "code",
   "execution_count": 82,
   "metadata": {},
   "outputs": [
    {
     "name": "stdout",
     "output_type": "stream",
     "text": [
      "Confusion Matrix: \n",
      " [[21  9 16  5]\n",
      " [10 12 14  8]\n",
      " [22 11 12  9]\n",
      " [19  9 16  7]]\n",
      "Train set accuracy: 0.556\n",
      "Test set accuracy: 0.260\n"
     ]
    }
   ],
   "source": [
    "from sklearn import metrics\n",
    "print('Confusion Matrix: \\n', metrics.confusion_matrix(y_test, y_hat))\n",
    "print('Train set accuracy: %.3f' % metrics.accuracy_score(y_train, model.predict(x_train)))\n",
    "print('Test set accuracy: %.3f' % metrics.accuracy_score(y_test, y_hat))"
   ]
  },
  {
   "cell_type": "markdown",
   "metadata": {},
   "source": [
    "Practice"
   ]
  },
  {
   "cell_type": "code",
   "execution_count": 83,
   "metadata": {},
   "outputs": [
    {
     "name": "stdout",
     "output_type": "stream",
     "text": [
      "Confusion Matrix: \n",
      " [[26  4 17  4]\n",
      " [ 9  9 19  7]\n",
      " [19  9 17  9]\n",
      " [24 10 10  7]]\n",
      "Train set accuracy: 0.495\n",
      "Test set accuracy: 0.295\n"
     ]
    }
   ],
   "source": [
    "model = KNeighborsClassifier(n_neighbors=6)\n",
    "model.fit(x_train, y_train)\n",
    "y_hat = model.predict(x_test)\n",
    "print('Confusion Matrix: \\n', metrics.confusion_matrix(y_test, y_hat))\n",
    "print('Train set accuracy: %.3f' % metrics.accuracy_score(y_train, model.predict(x_train)))\n",
    "print('Test set accuracy: %.3f' % metrics.accuracy_score(y_test, y_hat))"
   ]
  },
  {
   "cell_type": "code",
   "execution_count": 84,
   "metadata": {},
   "outputs": [],
   "source": [
    "k_limit = 10\n",
    "mean_accuracy = np.zeros((k_limit))\n",
    "std_accuracy = np.zeros((k_limit))\n",
    "\n",
    "for n in range(1, k_limit + 1):\n",
    "    model = KNeighborsClassifier(n_neighbors=n)\n",
    "    model.fit(x_train, y_train)\n",
    "    y_hat = model.predict(x_test)\n",
    "    \n",
    "    mean_accuracy[n-1] = np.mean(metrics.accuracy_score(y_test, y_hat))\n",
    "    std_accuracy[n-1] = np.std(y_hat == y_test) / np.sqrt(y_hat.shape[0])"
   ]
  },
  {
   "cell_type": "code",
   "execution_count": 85,
   "metadata": {},
   "outputs": [
    {
     "data": {
      "image/png": "[encoded data removed]",
      "text/plain": [
       "<Figure size 432x288 with 1 Axes>"
      ]
     },
     "metadata": {
      "needs_background": "light"
     },
     "output_type": "display_data"
    }
   ],
   "source": [
    "plt.plot(np.arange(1, k_limit + 1, 1), mean_accuracy, color='blue')\n",
    "plt.title('Mean Accuracies for K-NN')\n",
    "plt.fill_between(np.arange(1,k_limit + 1,1), mean_accuracy - std_accuracy, mean_accuracy + std_accuracy, alpha=0.5)\n",
    "plt.fill_between(np.arange(1,k_limit + 1,1), mean_accuracy - 3 * std_accuracy, mean_accuracy + 3 * std_accuracy, alpha=0.3, color='blue')\n",
    "plt.xlabel('K value')\n",
    "plt.ylabel('Mean Accuracy')\n",
    "plt.legend(('Accuracy', '+/-1 Std', '+/-3 Std'))\n",
    "plt.tight_layout()\n",
    "plt.show()"
   ]
  },
  {
   "cell_type": "code",
   "execution_count": 86,
   "metadata": {},
   "outputs": [
    {
     "name": "stdout",
     "output_type": "stream",
     "text": [
      "Best accuracy: 0.35 with k = 7\n"
     ]
    }
   ],
   "source": [
    "print('Best accuracy:', mean_accuracy.max(), 'with k =', mean_accuracy.argmax() + 1)"
   ]
  }
 ],
 "metadata": {
  "kernelspec": {
   "display_name": "Python 3",
   "language": "python",
   "name": "python3"
  },
  "language_info": {
   "codemirror_mode": {
    "name": "ipython",
    "version": 3
   },
   "file_extension": ".py",
   "mimetype": "text/x-python",
   "name": "python",
   "nbconvert_exporter": "python",
   "pygments_lexer": "ipython3",
   "version": "3.7.6"
  }
 },
 "nbformat": 4,
 "nbformat_minor": 4
}
