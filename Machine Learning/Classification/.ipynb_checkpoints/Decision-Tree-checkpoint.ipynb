{
 "cells": [
  {
   "cell_type": "markdown",
   "metadata": {},
   "source": [
    "Decision Tree"
   ]
  },
  {
   "cell_type": "code",
   "execution_count": 38,
   "metadata": {},
   "outputs": [],
   "source": [
    "import numpy as np\n",
    "import matplotlib.pyplot as plt\n",
    "import pandas as pd\n",
    "from sklearn.tree import DecisionTreeClassifier\n",
    "%matplotlib inline"
   ]
  },
  {
   "cell_type": "code",
   "execution_count": 24,
   "metadata": {},
   "outputs": [
    {
     "data": {
      "text/plain": [
       "Age            0\n",
       "Sex            0\n",
       "BP             0\n",
       "Cholesterol    0\n",
       "Na_to_K        0\n",
       "Drug           0\n",
       "dtype: int64"
      ]
     },
     "execution_count": 24,
     "metadata": {},
     "output_type": "execute_result"
    }
   ],
   "source": [
    "df = pd.read_csv('https://cf-courses-data.s3.us.cloud-object-storage.appdomain.cloud/IBMDeveloperSkillsNetwork-ML0101EN-SkillsNetwork/labs/Module%203/data/drug200.csv')"
   ]
  },
  {
   "cell_type": "code",
   "execution_count": 33,
   "metadata": {},
   "outputs": [],
   "source": [
    "x_data = df[['Age', 'Sex', 'BP', 'Cholesterol', 'Na_to_K']].to_numpy()"
   ]
  },
  {
   "cell_type": "code",
   "execution_count": 34,
   "metadata": {},
   "outputs": [],
   "source": [
    "from sklearn import preprocessing\n",
    "label_sex = preprocessing.LabelEncoder()\n",
    "label_sex.fit(['F', 'M'])\n",
    "x_data[:,1] = label_sex.transform(x_data[:,1]) # all rows in column index 1 ('Sex')\n",
    "\n",
    "label_BP = preprocessing.LabelEncoder()\n",
    "label_BP.fit([ 'LOW', 'NORMAL', 'HIGH'])\n",
    "x_data[:,2] = label_BP.transform(x_data[:,2])\n",
    "\n",
    "label_Chol = preprocessing.LabelEncoder()\n",
    "label_Chol.fit([ 'NORMAL', 'HIGH'])\n",
    "x_data[:,3] = label_Chol.transform(x_data[:,3])"
   ]
  },
  {
   "cell_type": "code",
   "execution_count": 36,
   "metadata": {},
   "outputs": [
    {
     "name": "stdout",
     "output_type": "stream",
     "text": [
      "Training Data's shapes:  (140, 5) (140,)\n",
      "Testing Data's shapes:  (60, 5) (60,)\n"
     ]
    }
   ],
   "source": [
    "y_data = df['Drug']\n",
    "\n",
    "from sklearn.model_selection import train_test_split\n",
    "x_train, x_test, y_train, y_test = train_test_split(x_data, y_data, test_size=0.3, random_state=3)\n",
    "print('Training Data\\'s shapes: ', x_train.shape, y_train.shape)\n",
    "print('Testing Data\\'s shapes: ', x_test.shape, y_test.shape)"
   ]
  },
  {
   "cell_type": "code",
   "execution_count": 37,
   "metadata": {},
   "outputs": [],
   "source": [
    "drugTree = DecisionTreeClassifier(criterion='entropy', max_depth=4)\n",
    "drugTree.fit(x_train, y_train)\n",
    "y_hat = drugTree.predict(x_test)"
   ]
  },
  {
   "cell_type": "code",
   "execution_count": 39,
   "metadata": {},
   "outputs": [
    {
     "name": "stdout",
     "output_type": "stream",
     "text": [
      "Confusion matrix: \n",
      " [[ 7  0  0  0  0]\n",
      " [ 0  5  0  0  0]\n",
      " [ 0  0  5  0  0]\n",
      " [ 0  0  0 20  1]\n",
      " [ 0  0  0  0 22]]\n",
      "Accuracy Score: 0.983\n"
     ]
    }
   ],
   "source": [
    "from sklearn import metrics\n",
    "print('Confusion matrix: \\n', metrics.confusion_matrix(y_test, y_hat))\n",
    "print('Accuracy Score: %.3f' % metrics.accuracy_score(y_test, y_hat))"
   ]
  }
 ],
 "metadata": {
  "kernelspec": {
   "display_name": "Python 3",
   "language": "python",
   "name": "python3"
  },
  "language_info": {
   "codemirror_mode": {
    "name": "ipython",
    "version": 3
   },
   "file_extension": ".py",
   "mimetype": "text/x-python",
   "name": "python",
   "nbconvert_exporter": "python",
   "pygments_lexer": "ipython3",
   "version": "3.7.9"
  }
 },
 "nbformat": 4,
 "nbformat_minor": 4
}
