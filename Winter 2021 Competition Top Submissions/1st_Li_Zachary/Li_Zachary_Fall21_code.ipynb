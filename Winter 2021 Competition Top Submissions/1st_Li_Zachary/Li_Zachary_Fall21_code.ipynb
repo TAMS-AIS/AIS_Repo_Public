{
  "cells": [
    {
      "cell_type": "markdown",
      "metadata": {},
      "source": [
        "# 1st Place Submission in AIS Winter 2021 Competition\n",
        "## Author: Zachary Li"
      ]
    },
    {
      "cell_type": "code",
      "execution_count": 7,
      "metadata": {
        "colab": {
          "base_uri": "https://localhost:8080/",
          "height": 206
        },
        "id": "0NtIhdTQzDhq",
        "outputId": "e5a79457-08e8-4df2-d521-cde0ecae9ae4"
      },
      "outputs": [
        {
          "data": {
            "text/html": [
              "<div>\n",
              "<style scoped>\n",
              "    .dataframe tbody tr th:only-of-type {\n",
              "        vertical-align: middle;\n",
              "    }\n",
              "\n",
              "    .dataframe tbody tr th {\n",
              "        vertical-align: top;\n",
              "    }\n",
              "\n",
              "    .dataframe thead th {\n",
              "        text-align: right;\n",
              "    }\n",
              "</style>\n",
              "<table border=\"1\" class=\"dataframe\">\n",
              "  <thead>\n",
              "    <tr style=\"text-align: right;\">\n",
              "      <th></th>\n",
              "      <th>Temperature</th>\n",
              "      <th>L</th>\n",
              "      <th>R</th>\n",
              "      <th>A_M</th>\n",
              "      <th>Color</th>\n",
              "      <th>Spectral_Class</th>\n",
              "      <th>Type</th>\n",
              "    </tr>\n",
              "  </thead>\n",
              "  <tbody>\n",
              "    <tr>\n",
              "      <th>0</th>\n",
              "      <td>3484</td>\n",
              "      <td>0.000551</td>\n",
              "      <td>0.0998</td>\n",
              "      <td>16.67</td>\n",
              "      <td>Red</td>\n",
              "      <td>M</td>\n",
              "      <td>0</td>\n",
              "    </tr>\n",
              "    <tr>\n",
              "      <th>1</th>\n",
              "      <td>23000</td>\n",
              "      <td>127000.000000</td>\n",
              "      <td>36.0000</td>\n",
              "      <td>-5.76</td>\n",
              "      <td>Blue</td>\n",
              "      <td>O</td>\n",
              "      <td>4</td>\n",
              "    </tr>\n",
              "    <tr>\n",
              "      <th>2</th>\n",
              "      <td>4287</td>\n",
              "      <td>630000.000000</td>\n",
              "      <td>1315.0000</td>\n",
              "      <td>-9.20</td>\n",
              "      <td>Orange</td>\n",
              "      <td>K</td>\n",
              "      <td>5</td>\n",
              "    </tr>\n",
              "    <tr>\n",
              "      <th>3</th>\n",
              "      <td>3462</td>\n",
              "      <td>0.005300</td>\n",
              "      <td>0.1480</td>\n",
              "      <td>11.47</td>\n",
              "      <td>Red</td>\n",
              "      <td>M</td>\n",
              "      <td>1</td>\n",
              "    </tr>\n",
              "    <tr>\n",
              "      <th>4</th>\n",
              "      <td>36108</td>\n",
              "      <td>198000.000000</td>\n",
              "      <td>10.2000</td>\n",
              "      <td>-4.40</td>\n",
              "      <td>Blue</td>\n",
              "      <td>O</td>\n",
              "      <td>3</td>\n",
              "    </tr>\n",
              "  </tbody>\n",
              "</table>\n",
              "</div>"
            ],
            "text/plain": [
              "   Temperature              L          R    A_M   Color Spectral_Class  Type\n",
              "0         3484       0.000551     0.0998  16.67     Red              M     0\n",
              "1        23000  127000.000000    36.0000  -5.76    Blue              O     4\n",
              "2         4287  630000.000000  1315.0000  -9.20  Orange              K     5\n",
              "3         3462       0.005300     0.1480  11.47     Red              M     1\n",
              "4        36108  198000.000000    10.2000  -4.40    Blue              O     3"
            ]
          },
          "execution_count": 7,
          "metadata": {},
          "output_type": "execute_result"
        }
      ],
      "source": [
        "#reading uploaded file\n",
        "import pandas as pd\n",
        "import io\n",
        "data = pd.read_csv('../Data/stars_train.csv')\n",
        "# data = pd.read_csv(io.BytesIO(uploaded['stars_train.csv']))\n",
        "data.head()"
      ]
    },
    {
      "cell_type": "code",
      "execution_count": 8,
      "metadata": {
        "id": "bIkLMm78zXC4"
      },
      "outputs": [],
      "source": [
        "#extracting predictors and responses using iloc\n",
        "x = data.iloc[:, [0, 3]]\n",
        "y = data.iloc[:, 6]\n",
        "\n",
        "#split into train/test sets\n",
        "from sklearn.model_selection import train_test_split\n",
        "x_train, x_test, y_train, y_test = train_test_split(x, y)"
      ]
    },
    {
      "cell_type": "code",
      "execution_count": 9,
      "metadata": {
        "colab": {
          "base_uri": "https://localhost:8080/",
          "height": 283
        },
        "id": "Vc0QNSJ5zcaK",
        "outputId": "999bbabe-69c9-4ba7-a1a7-2df365d8d164"
      },
      "outputs": [
        {
          "data": {
            "image/png": "[encoded data removed]",
            "text/plain": [
              "<Figure size 432x288 with 2 Axes>"
            ]
          },
          "metadata": {
            "needs_background": "light"
          },
          "output_type": "display_data"
        }
      ],
      "source": [
        "#model fitting\n",
        "from sklearn.tree import DecisionTreeClassifier\n",
        "\n",
        "tree3 = DecisionTreeClassifier()\n",
        "tree3.fit(x_train, y_train)\n",
        "\n",
        "#confusion matrix plotting with test set of training data\n",
        "\n",
        "from sklearn.metrics import confusion_matrix, ConfusionMatrixDisplay\n",
        "import matplotlib.pyplot as plt\n",
        "\n",
        "predictions = tree3.predict(x_test)\n",
        "cm = confusion_matrix(y_test, predictions)\n",
        "disp = ConfusionMatrixDisplay(confusion_matrix=cm)\n",
        "disp.plot()\n",
        "plt.show()"
      ]
    },
    {
      "cell_type": "code",
      "execution_count": 10,
      "metadata": {
        "colab": {
          "base_uri": "https://localhost:8080/",
          "height": 17
        },
        "id": "MR-o_jB4zrk4",
        "outputId": "2d94fed6-1435-49e7-f6bc-2b76d351b642"
      },
      "outputs": [],
      "source": [
        "#reading final test data and extracting predictors/responses\n",
        "testdata = pd.read_csv('../Data/stars_competitor_test.csv')\n",
        "finalfeatures = testdata\n",
        "finalfeatures = testdata.iloc[:, [1, 4]]\n",
        "\n",
        "#making predictions on test data and downloading\n",
        "finalpredictions = tree3.predict(finalfeatures)\n",
        "df = pd.DataFrame(finalpredictions, columns = [\"Predicted\"])\n",
        "df.to_csv('Li_Zachary_Fall21.csv')\n",
        "# files.download('Li_Zachary_Fall21.csv')"
      ]
    }
  ],
  "metadata": {
    "colab": {
      "collapsed_sections": [],
      "name": "Li_Zachary_Fall21_code.ipynb",
      "provenance": []
    },
    "kernelspec": {
      "display_name": "Python 3",
      "name": "python3"
    },
    "language_info": {
      "codemirror_mode": {
        "name": "ipython",
        "version": 3
      },
      "file_extension": ".py",
      "mimetype": "text/x-python",
      "name": "python",
      "nbconvert_exporter": "python",
      "pygments_lexer": "ipython3",
      "version": "3.9.7"
    }
  },
  "nbformat": 4,
  "nbformat_minor": 0
}
