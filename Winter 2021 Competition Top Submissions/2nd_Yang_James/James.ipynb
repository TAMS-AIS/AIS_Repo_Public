{
  "cells": [
    {
      "cell_type": "markdown",
      "metadata": {},
      "source": [
        "# 2nd Place Submission in AIS Winter 2021 Competition\n",
        "## Author: James Yang"
      ]
    },
    {
      "cell_type": "code",
      "execution_count": 1,
      "metadata": {
        "id": "9CdiQocAG0A1"
      },
      "outputs": [],
      "source": [
        "import numpy as np\n",
        "import pandas as pd \n",
        "import os\n",
        "from sklearn.neighbors import KNeighborsClassifier\n",
        "from sklearn.model_selection import GridSearchCV\n",
        "from sklearn.metrics import accuracy_score\n",
        "from sklearn.preprocessing import StandardScaler\n",
        "from sklearn.model_selection import cross_val_score\n"
      ]
    },
    {
      "cell_type": "code",
      "execution_count": 2,
      "metadata": {
        "id": "7GtFz004G0dl"
      },
      "outputs": [],
      "source": [
        "train = pd.read_csv('../Data/stars_train.csv')\n",
        "test = pd.read_csv('../Data/stars_competitor_test.csv')\n",
        "\n",
        "train = pd.get_dummies(data=train,columns=[\"Color\",\"Spectral_Class\"],drop_first=True)\n",
        "\n",
        "y = train[\"Type\"]\n",
        "train = train.drop(\"Type\", axis=1)\n",
        "\n",
        "\n",
        "test = pd.get_dummies(data=test,columns=[\"Color\",\"Spectral_Class\"],drop_first=True)\n",
        "test = test.drop(\"ID\", axis=1)\n",
        "\n",
        "train, test = train.align(test, join='left', axis=1, fill_value= 0)\n",
        "scaler = StandardScaler()\n",
        "scaler.fit(train)\n",
        "train_scale = scaler.transform(train)\n",
        "test_scale = scaler.transform(test)\n"
      ]
    },
    {
      "cell_type": "code",
      "execution_count": 3,
      "metadata": {
        "colab": {
          "base_uri": "https://localhost:8080/"
        },
        "id": "lJzWGLAQ5RWS",
        "outputId": "7f544465-d5f3-4bf8-b7fa-37da25c6c08c"
      },
      "outputs": [
        {
          "data": {
            "text/plain": [
              "array([[-0.75340035, -0.60969708, -0.46178412, ..., -0.16903085,\n",
              "         1.15003506, -0.46940279],\n",
              "       [ 1.25577401,  0.05127642, -0.39311411, ..., -0.16903085,\n",
              "        -0.86953871,  2.13036653],\n",
              "       [-0.67073141,  2.66914785,  2.05336075, ...,  5.91607978,\n",
              "        -0.86953871, -0.46940279],\n",
              "       ...,\n",
              "       [ 1.26555427,  1.20053759, -0.29747397, ..., -0.16903085,\n",
              "        -0.86953871,  2.13036653],\n",
              "       [-0.78006443, -0.60969707, -0.46174357, ..., -0.16903085,\n",
              "         1.15003506, -0.46940279],\n",
              "       [-0.83411324, -0.60969708, -0.46172635, ..., -0.16903085,\n",
              "         1.15003506, -0.46940279]])"
            ]
          },
          "execution_count": 3,
          "metadata": {},
          "output_type": "execute_result"
        }
      ],
      "source": [
        "train_scale"
      ]
    },
    {
      "cell_type": "code",
      "execution_count": 4,
      "metadata": {
        "colab": {
          "base_uri": "https://localhost:8080/"
        },
        "id": "8MUAFJ3h5RHW",
        "outputId": "9e8b4dfc-2ee8-4219-d37c-73e10e7cde7d"
      },
      "outputs": [
        {
          "data": {
            "text/plain": [
              "array([[-0.7565918 , -0.60969708, -0.46182716, ..., -0.16903085,\n",
              "         1.15003506, -0.46940279],\n",
              "       [ 0.1334119 , -0.60611117, -0.44856627, ..., -0.16903085,\n",
              "        -0.86953871, -0.46940279],\n",
              "       [-0.83092178, -0.60969708, -0.46181128, ..., -0.16903085,\n",
              "         1.15003506, -0.46940279],\n",
              "       ...,\n",
              "       [-0.78469718, -0.60969707, -0.46130553, ..., -0.16903085,\n",
              "         1.15003506, -0.46940279],\n",
              "       [-0.82608313, -0.60969707, -0.46176078, ..., -0.16903085,\n",
              "         1.15003506, -0.46940279],\n",
              "       [-0.81753827, -0.60969708, -0.46180305, ..., -0.16903085,\n",
              "         1.15003506, -0.46940279]])"
            ]
          },
          "execution_count": 4,
          "metadata": {},
          "output_type": "execute_result"
        }
      ],
      "source": [
        "test_scale"
      ]
    },
    {
      "cell_type": "code",
      "execution_count": 5,
      "metadata": {
        "colab": {
          "base_uri": "https://localhost:8080/"
        },
        "id": "95cx_OS1bfd7",
        "outputId": "ec40897c-b868-48f1-9301-280f31cda742"
      },
      "outputs": [
        {
          "data": {
            "text/plain": [
              "'\\nKNN code, not used\\n\\nparameters = [\\n    {\\'n_neighbors\\': list(np.arange(2,20+1))}\\n]\\nopt_knn = KNeighborsClassifier()\\n\\ngrid_search = GridSearchCV(opt_knn, parameters, scoring=\\'accuracy\\', return_train_score=True)\\n\\ngrid_search.fit(train_scale, y)\\n\\npredictions = grid_search.predict(train_scale)\\n\\naccuracy = accuracy_score(y, predictions)\\n\\npredictions, y, accuracy\\n#grid_search.best_params_\\nknncv = cross_val_score(grid_search, train_scale, y, cv=5)\\nknncv\\n\\nprediction = grid_search.predict(test_scale)\\n\\nprint(prediction)\\ndf= pd.DataFrame({\\'Predicted\\': prediction})\\ndf.to_csv(\"Prediction.csv\")\\n'"
            ]
          },
          "execution_count": 5,
          "metadata": {},
          "output_type": "execute_result"
        }
      ],
      "source": [
        "\"\"\"\n",
        "KNN code, not used\n",
        "\n",
        "parameters = [\n",
        "    {'n_neighbors': list(np.arange(2,20+1))}\n",
        "]\n",
        "opt_knn = KNeighborsClassifier()\n",
        "\n",
        "grid_search = GridSearchCV(opt_knn, parameters, scoring='accuracy', return_train_score=True)\n",
        "\n",
        "grid_search.fit(train_scale, y)\n",
        "\n",
        "predictions = grid_search.predict(train_scale)\n",
        "\n",
        "accuracy = accuracy_score(y, predictions)\n",
        "\n",
        "predictions, y, accuracy\n",
        "#grid_search.best_params_\n",
        "knncv = cross_val_score(grid_search, train_scale, y, cv=5)\n",
        "knncv\n",
        "\n",
        "prediction = grid_search.predict(test_scale)\n",
        "\n",
        "print(prediction)\n",
        "df= pd.DataFrame({'Predicted': prediction})\n",
        "df.to_csv(\"Prediction.csv\")\n",
        "\"\"\"\n"
      ]
    },
    {
      "cell_type": "code",
      "execution_count": 6,
      "metadata": {
        "colab": {
          "base_uri": "https://localhost:8080/"
        },
        "id": "EI9IpcYYPpwD",
        "outputId": "e2b25afb-8a3b-4c9b-9942-b041a3c11fc8"
      },
      "outputs": [
        {
          "data": {
            "text/plain": [
              "'\\nLinear SVM Code, not used\\n\\nfrom sklearn.svm import LinearSVC\\n\\nclf = LinearSVC()\\nclf.fit(train_scale, y)\\n\\nsvmcv = cross_val_score(clf, train_scale, y, cv=5)\\nprint(svmcv)\\n\\nprediction = clf.predict(test_scale)\\n\\nprint(prediction)\\ndf= pd.DataFrame({\\'Predicted\\': prediction})\\ndf.to_csv(\"Prediction.csv\")\\n'"
            ]
          },
          "execution_count": 6,
          "metadata": {},
          "output_type": "execute_result"
        }
      ],
      "source": [
        "\"\"\"\n",
        "Linear SVM Code, not used\n",
        "\n",
        "from sklearn.svm import LinearSVC\n",
        "\n",
        "clf = LinearSVC()\n",
        "clf.fit(train_scale, y)\n",
        "\n",
        "svmcv = cross_val_score(clf, train_scale, y, cv=5)\n",
        "print(svmcv)\n",
        "\n",
        "prediction = clf.predict(test_scale)\n",
        "\n",
        "print(prediction)\n",
        "df= pd.DataFrame({'Predicted': prediction})\n",
        "df.to_csv(\"Prediction.csv\")\n",
        "\"\"\""
      ]
    },
    {
      "cell_type": "code",
      "execution_count": 7,
      "metadata": {
        "colab": {
          "base_uri": "https://localhost:8080/"
        },
        "id": "h8UMeM6MxLKc",
        "outputId": "b349c989-3643-4704-b951-00cff3e3d20f"
      },
      "outputs": [
        {
          "name": "stdout",
          "output_type": "stream",
          "text": [
            "{'n_estimators': 12}\n",
            "[1.         1.         1.         0.96551724 0.96428571]\n"
          ]
        }
      ],
      "source": [
        "from sklearn.ensemble import RandomForestClassifier\n",
        "\n",
        "parameters = [\n",
        "    {'n_estimators': list(np.arange(10,20))}\n",
        "]\n",
        "\n",
        "clf = RandomForestClassifier()\n",
        "\n",
        "grid_search = GridSearchCV(clf, parameters, scoring='accuracy', return_train_score=True)\n",
        "grid_search.fit(train_scale, y)\n",
        "predictions = grid_search.predict(train_scale)\n",
        "accuracy = accuracy_score(y, predictions)\n",
        "\n",
        "#predictions, y, accuracy\n",
        "print(grid_search.best_params_)\n",
        "\n",
        "\n",
        "rfccv = cross_val_score(grid_search, train_scale, y, cv=5)\n",
        "print(rfccv)\n"
      ]
    },
    {
      "cell_type": "markdown",
      "metadata": {
        "id": "V3t2Fp1WRLYw"
      },
      "source": [
        "\n",
        "\n",
        "```\n",
        "\n",
        "```\n",
        "\n"
      ]
    },
    {
      "cell_type": "code",
      "execution_count": 8,
      "metadata": {
        "colab": {
          "base_uri": "https://localhost:8080/"
        },
        "id": "CwwqqacT2Fae",
        "outputId": "524bf882-3c2e-4cee-8d53-a3e3c9f5fad7"
      },
      "outputs": [
        {
          "name": "stdout",
          "output_type": "stream",
          "text": [
            "[0 3 0 3 2 5 3 4 5 5 4 0 5 4 1 2 1 4 3 1 3 0 2 0 0 1 2 2 2 0 3 1 3 1 2 5 5\n",
            " 5 0 5 4 3 4 1 2 1 0 5 1 2 3 4 0 0 1 0 1 2 5 4 0 1 3 2 5 1 5 0 2 0 5 3 0 4\n",
            " 4 0 2 2 2 5 5 1 4 4 2 4 4 4 5 2 3 3 1 1 0 0]\n"
          ]
        }
      ],
      "source": [
        "predictions = grid_search.predict(test_scale)\n",
        "print(predictions)\n",
        "df= pd.DataFrame({'Predicted': predictions})\n",
        "df.to_csv(\"Prediction.csv\")"
      ]
    }
  ],
  "metadata": {
    "colab": {
      "collapsed_sections": [],
      "name": "AIS Winter Comp.ipynb",
      "provenance": []
    },
    "kernelspec": {
      "display_name": "Python 3",
      "name": "python3"
    },
    "language_info": {
      "codemirror_mode": {
        "name": "ipython",
        "version": 3
      },
      "file_extension": ".py",
      "mimetype": "text/x-python",
      "name": "python",
      "nbconvert_exporter": "python",
      "pygments_lexer": "ipython3",
      "version": "3.9.7"
    }
  },
  "nbformat": 4,
  "nbformat_minor": 0
}
