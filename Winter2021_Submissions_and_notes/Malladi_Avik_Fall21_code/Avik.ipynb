{
  "cells": [
    {
      "cell_type": "code",
      "execution_count": 1,
      "metadata": {
        "id": "XshXnknqCgZ9"
      },
      "outputs": [],
      "source": [
        "import time; start = time.time()\n",
        "import pandas as pd\n",
        "# from sklearn.neighbors import KNeighborsClassifier\n",
        "from sklearn.ensemble import RandomForestClassifier"
      ]
    },
    {
      "cell_type": "code",
      "execution_count": 2,
      "metadata": {
        "id": "FANPL-4wClmC"
      },
      "outputs": [],
      "source": [
        "df = pd.read_csv('stars_train.csv')"
      ]
    },
    {
      "cell_type": "code",
      "execution_count": 3,
      "metadata": {
        "id": "xrJG4z3HCrZF"
      },
      "outputs": [],
      "source": [
        "X = df[['Temperature', 'L', 'R', 'A_M']]\n",
        "y = df[['Type']]"
      ]
    },
    {
      "cell_type": "code",
      "execution_count": 4,
      "metadata": {
        "id": "im3jCEeuC01m"
      },
      "outputs": [],
      "source": [
        "regr = RandomForestClassifier(max_depth=2,random_state=0)"
      ]
    },
    {
      "cell_type": "code",
      "execution_count": 5,
      "metadata": {
        "colab": {
          "base_uri": "https://localhost:8080/"
        },
        "id": "QmKKLJuvC6W9",
        "outputId": "950437c4-3561-483e-e55a-977f9ddb6077"
      },
      "outputs": [
        {
          "name": "stderr",
          "output_type": "stream",
          "text": [
            "C:\\Users\\kunhu\\AppData\\Local\\Temp/ipykernel_15052/2201162481.py:1: DataConversionWarning: A column-vector y was passed when a 1d array was expected. Please change the shape of y to (n_samples,), for example using ravel().\n",
            "  regr.fit(X, y)\n"
          ]
        },
        {
          "data": {
            "text/plain": [
              "RandomForestClassifier(max_depth=2, random_state=0)"
            ]
          },
          "execution_count": 5,
          "metadata": {},
          "output_type": "execute_result"
        }
      ],
      "source": [
        "regr.fit(X, y)"
      ]
    },
    {
      "cell_type": "code",
      "execution_count": 6,
      "metadata": {
        "id": "hT311OJ9R_Qw"
      },
      "outputs": [],
      "source": [
        "of = pd.read_csv('stars_competitor_test.csv')\n",
        "f = open('out.txt', 'w')"
      ]
    },
    {
      "cell_type": "code",
      "execution_count": 7,
      "metadata": {
        "id": "V9_4N-63C972"
      },
      "outputs": [],
      "source": [
        "for i in range(len(of['Temperature'])):\n",
        "  prd = regr.predict([[of['Temperature'][i], of['L'][i], of['R'][i], of['A_M'][i]]])\n",
        "  f.write(str(round(float(prd))) + '\\n')\n",
        "f.close()\n",
        "# count = 0\n",
        "# for i in range(len(df['Temperature'])):\n",
        "#   prd = regr.predict([[df['Temperature'][i], df['L'][i], df['R'][i], df['A_M'][i]]])\n",
        "#   if round(float(prd)) == df['Type'][i]:\n",
        "#     count += 1\n",
        "#     # print(count)\n",
        "# # print(count / len(df['Temperature']))\n",
        "# print(len(df['Temperature']))\n",
        "# print(count)"
      ]
    },
    {
      "cell_type": "code",
      "execution_count": 8,
      "metadata": {},
      "outputs": [
        {
          "name": "stdout",
          "output_type": "stream",
          "text": [
            "2.039031505584717\n"
          ]
        }
      ],
      "source": [
        "end = time.time(); print(end - start)"
      ]
    }
  ],
  "metadata": {
    "colab": {
      "collapsed_sections": [],
      "name": "star_prediction.ipynb",
      "provenance": []
    },
    "kernelspec": {
      "display_name": "Python 3",
      "name": "python3"
    },
    "language_info": {
      "codemirror_mode": {
        "name": "ipython",
        "version": 3
      },
      "file_extension": ".py",
      "mimetype": "text/x-python",
      "name": "python",
      "nbconvert_exporter": "python",
      "pygments_lexer": "ipython3",
      "version": "3.9.7"
    }
  },
  "nbformat": 4,
  "nbformat_minor": 0
}
